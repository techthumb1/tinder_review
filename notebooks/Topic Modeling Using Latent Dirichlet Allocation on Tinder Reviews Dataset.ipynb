{
 "cells": [
  {
   "cell_type": "markdown",
   "metadata": {},
   "source": [
    "\n",
    "# Topic Modeling using LDA with Gensim on Tinder Reviews Dataset\n",
    "\n",
    "## Part 1: Latent Dirchilet Allocation (LDA) Models\n",
    "LDA is a \"generative probabilistic model\" that can be used for several tasks.\n",
    "## Part 2: Estimating LDA Models with Gensim\n",
    "<a id=\"#p1\"></a>\n",
    "\n",
    "We're going to apply Latent Dirichlet Allocation a machine learning alogrithm for topic modeling to each of the documents of user reviews to compare the distribution of topics in the stories.\n",
    "\n",
    "## Part 3: Interpret LDA Results\n",
    "<a id=\"#p3\"></a>\n",
    " \n",
    "- What insights can we gather from the results? \n",
    "- How are the results measured?\n",
    "- How does this information assist in business practice?\n"
   ]
  },
  {
   "cell_type": "code",
   "execution_count": 1,
   "metadata": {},
   "outputs": [],
   "source": [
    "# Regular expressions and os for path\n",
    "import os\n",
    "import re\n",
    "\n",
    "# Dataframe and statistics\n",
    "import pandas as pd\n",
    "import numpy as np\n",
    "from pprint import pprint\n",
    "\n",
    "# Gensim for vector embedding\n",
    "import gensim\n",
    "from gensim.utils import simple_preprocess\n",
    "from gensim.parsing.preprocessing import STOPWORDS\n",
    "from gensim import corpora\n",
    "from gensim.models.ldamulticore import LdaMulticore\n",
    "from gensim.models import CoherenceModel\n",
    "\n",
    "# Spacy for text preprocessing\n",
    "import spacy\n",
    "nlp = spacy.load('en_core_web_lg')\n",
    "\n",
    "# pyLDAvis \n",
    "import pyLDAvis\n",
    "import pyLDAvis.gensim \n",
    "import matplotlib.pyplot as plt\n",
    "\n",
    "import warnings\n",
    "warnings.filterwarnings('ignore')"
   ]
  },
  {
   "cell_type": "markdown",
   "metadata": {},
   "source": [
    "Pull in our data using **Pandas** to load the dataset"
   ]
  },
  {
   "cell_type": "code",
   "execution_count": 2,
   "metadata": {},
   "outputs": [
    {
     "data": {
      "text/plain": [
       "(530253, 10)"
      ]
     },
     "execution_count": 2,
     "metadata": {},
     "output_type": "execute_result"
    }
   ],
   "source": [
    "tinder = pd.read_csv('/Users/jasonrobinson/Documents/Projects/tinder_google_play_reviews.csv')\n",
    "tinder.shape"
   ]
  },
  {
   "cell_type": "code",
   "execution_count": 3,
   "metadata": {},
   "outputs": [
    {
     "name": "stdout",
     "output_type": "stream",
     "text": [
      "<class 'pandas.core.frame.DataFrame'>\n",
      "RangeIndex: 530253 entries, 0 to 530252\n",
      "Data columns (total 10 columns):\n",
      " #   Column                Non-Null Count   Dtype \n",
      "---  ------                --------------   ----- \n",
      " 0   reviewId              530253 non-null  object\n",
      " 1   userName              530248 non-null  object\n",
      " 2   userImage             530253 non-null  object\n",
      " 3   content               528908 non-null  object\n",
      " 4   score                 530253 non-null  int64 \n",
      " 5   thumbsUpCount         530253 non-null  int64 \n",
      " 6   reviewCreatedVersion  423368 non-null  object\n",
      " 7   at                    530253 non-null  object\n",
      " 8   replyContent          47714 non-null   object\n",
      " 9   repliedAt             47714 non-null   object\n",
      "dtypes: int64(2), object(8)\n",
      "memory usage: 40.5+ MB\n"
     ]
    }
   ],
   "source": [
    "# See datatypes and memory usage 40mb>\n",
    "tinder.info()"
   ]
  },
  {
   "cell_type": "code",
   "execution_count": 4,
   "metadata": {},
   "outputs": [
    {
     "data": {
      "text/plain": [
       "0                         Won't let me link my spotify\n",
       "1    This is not a dating app its a shity version o...\n",
       "2             The best sweet ever inside of my heart ♥\n",
       "3                           Nice place to meet friends\n",
       "4       Trash alot of fake accounts Pof Free is better\n",
       "5                                is very sweet an good\n",
       "6                                                 Cool\n",
       "7    Okay but we need to try the app before paying ...\n",
       "8                       You get banned for no reason 😠\n",
       "9    Awesome supportive guys on here. Basically sav...\n",
       "Name: content, dtype: object"
      ]
     },
     "execution_count": 4,
     "metadata": {},
     "output_type": "execute_result"
    }
   ],
   "source": [
    "# Let's look at the first 10 rows of content\n",
    "tinder['content'][:10]"
   ]
  },
  {
   "cell_type": "code",
   "execution_count": 5,
   "metadata": {},
   "outputs": [
    {
     "name": "stdout",
     "output_type": "stream",
     "text": [
      "(41091, 10)\n"
     ]
    }
   ],
   "source": [
    "# Drop all nan values\n",
    "tinder = tinder.dropna(axis=0)\n",
    "print(tinder.shape)"
   ]
  },
  {
   "cell_type": "markdown",
   "metadata": {},
   "source": [
    "\n",
    "## Creating our Tokens\n"
   ]
  },
  {
   "cell_type": "code",
   "execution_count": 6,
   "metadata": {},
   "outputs": [],
   "source": [
    "# Preprocessing\n",
    "tinder['content'] = tinder.reset_index()['content'].apply(lambda x: x.split('_')[0]).tolist()\n",
    "tinder['clean_content'] = tinder['content'].apply(lambda x: re.sub('[^a-zA-Z]', ' ', x))\n",
    "tinder['clean_content'] = tinder['clean_content'].apply(lambda x: ' '.join(x.lower().split()))"
   ]
  },
  {
   "cell_type": "code",
   "execution_count": 7,
   "metadata": {},
   "outputs": [
    {
     "data": {
      "text/plain": [
       "[['facebook'],\n",
       " ['took',\n",
       "  'away',\n",
       "  'the',\n",
       "  'daily',\n",
       "  'free',\n",
       "  'super',\n",
       "  'like',\n",
       "  'and',\n",
       "  'now',\n",
       "  'you',\n",
       "  'have',\n",
       "  'to',\n",
       "  'pay',\n",
       "  'for',\n",
       "  'them'],\n",
       " ['only',\n",
       "  'works',\n",
       "  'like',\n",
       "  'of',\n",
       "  'time',\n",
       "  'i',\n",
       "  'almost',\n",
       "  'always',\n",
       "  'get',\n",
       "  'an',\n",
       "  'opps',\n",
       "  'something',\n",
       "  'went',\n",
       "  'wrong',\n",
       "  'try',\n",
       "  'again',\n",
       "  'later',\n",
       "  'notification',\n",
       "  'yet',\n",
       "  'it',\n",
       "  'never',\n",
       "  'works',\n",
       "  'and',\n",
       "  'it',\n",
       "  'when',\n",
       "  'it',\n",
       "  'does',\n",
       "  'work',\n",
       "  'it',\n",
       "  'always',\n",
       "  'says',\n",
       "  'there',\n",
       "  's',\n",
       "  'no',\n",
       "  'one',\n",
       "  'in',\n",
       "  'my',\n",
       "  'area'],\n",
       " ['app',\n",
       "  'is',\n",
       "  'broken',\n",
       "  'never',\n",
       "  'found',\n",
       "  'a',\n",
       "  'single',\n",
       "  'match',\n",
       "  'inspite',\n",
       "  'of',\n",
       "  'having',\n",
       "  'a',\n",
       "  'cool',\n",
       "  'bio',\n",
       "  'updating',\n",
       "  'my',\n",
       "  'photos',\n",
       "  'turning',\n",
       "  'on',\n",
       "  'smart',\n",
       "  'photos',\n",
       "  'this',\n",
       "  'app',\n",
       "  'is',\n",
       "  'not',\n",
       "  'worth',\n",
       "  'your',\n",
       "  'time',\n",
       "  'guys',\n",
       "  'why',\n",
       "  'won',\n",
       "  't',\n",
       "  'you',\n",
       "  'allow',\n",
       "  'me',\n",
       "  'to',\n",
       "  'see',\n",
       "  'who',\n",
       "  'liked',\n",
       "  'me',\n",
       "  'you',\n",
       "  'are',\n",
       "  'doing',\n",
       "  'disservice',\n",
       "  'to',\n",
       "  'mankind',\n",
       "  'how',\n",
       "  'is',\n",
       "  'this',\n",
       "  'trash',\n",
       "  'top',\n",
       "  'grossing',\n",
       "  'how',\n",
       "  'is',\n",
       "  'it',\n",
       "  'even',\n",
       "  'rated',\n",
       "  'stars',\n",
       "  'it',\n",
       "  'is',\n",
       "  'beyond',\n",
       "  'my',\n",
       "  'understanding'],\n",
       " ['i',\n",
       "  've',\n",
       "  'been',\n",
       "  'using',\n",
       "  'tinder',\n",
       "  'since',\n",
       "  'i',\n",
       "  've',\n",
       "  'met',\n",
       "  'a',\n",
       "  'good',\n",
       "  'number',\n",
       "  'of',\n",
       "  'valuable',\n",
       "  'connections',\n",
       "  'serious',\n",
       "  'relationships',\n",
       "  'happened',\n",
       "  'twice',\n",
       "  'from',\n",
       "  'here',\n",
       "  'i',\n",
       "  'recommend',\n",
       "  'tinder',\n",
       "  'plus',\n",
       "  'if',\n",
       "  'you',\n",
       "  're',\n",
       "  'an',\n",
       "  'avid',\n",
       "  'traveler',\n",
       "  'and',\n",
       "  'you',\n",
       "  're',\n",
       "  'looking',\n",
       "  'to',\n",
       "  'meet',\n",
       "  'people',\n",
       "  'in',\n",
       "  'the',\n",
       "  'city',\n",
       "  'you',\n",
       "  'll',\n",
       "  'be',\n",
       "  'visiting']]"
      ]
     },
     "execution_count": 7,
     "metadata": {},
     "output_type": "execute_result"
    }
   ],
   "source": [
    "# Tokenization of characters\n",
    "tokens = [t.split() for t in tinder['clean_content']]\n",
    "tokens[:5]"
   ]
  },
  {
   "cell_type": "code",
   "execution_count": 8,
   "metadata": {},
   "outputs": [],
   "source": [
    "# Create stopwords that are most common in reviews\n",
    "STOPWORDS = set(STOPWORDS).union(set(['Hi','Hello']))\n",
    "\n",
    "def tokenize(tokens):\n",
    "    return [token for token in simple_preprocess(tokens) if token not in STOPWORDS]"
   ]
  },
  {
   "cell_type": "code",
   "execution_count": 9,
   "metadata": {},
   "outputs": [
    {
     "data": {
      "text/plain": [
       "['hello', 'world', 'test', 'tokenization', 'method']"
      ]
     },
     "execution_count": 9,
     "metadata": {},
     "output_type": "execute_result"
    }
   ],
   "source": [
    "# Testing our function \n",
    "# Here we see that our function returns 5 tokens\n",
    "tokenize(\"Hello World! This a test of the tokenization method\")"
   ]
  },
  {
   "cell_type": "markdown",
   "metadata": {},
   "source": [
    "\n",
    "## Lemmatization\n"
   ]
  },
  {
   "cell_type": "code",
   "execution_count": 10,
   "metadata": {},
   "outputs": [],
   "source": [
    " # Get our lemmas with Lemmatization (preferred over stemming)\n",
    "from tqdm import tqdm\n",
    "tqdm.pandas()"
   ]
  },
  {
   "cell_type": "code",
   "execution_count": 11,
   "metadata": {},
   "outputs": [],
   "source": [
    "# Use spacy for text preprocessing\n",
    "nlp = spacy.load(\"en_core_web_md\", disable=['parser', 'tagger', 'ner'])"
   ]
  },
  {
   "cell_type": "code",
   "execution_count": 12,
   "metadata": {},
   "outputs": [
    {
     "name": "stderr",
     "output_type": "stream",
     "text": [
      "100%|██████████████████████████████████| 41091/41091 [00:02<00:00, 15393.24it/s]\n"
     ]
    }
   ],
   "source": [
    "# \n",
    "tinder['lemmas'] = tinder['clean_content'].progress_apply(lambda x: [token.lemma_ for token in nlp(x) if (token.is_stop != True) and (token.is_punct != True) and (len(token) > 2)])"
   ]
  },
  {
   "cell_type": "code",
   "execution_count": 13,
   "metadata": {},
   "outputs": [
    {
     "data": {
      "text/html": [
       "<div>\n",
       "<style scoped>\n",
       "    .dataframe tbody tr th:only-of-type {\n",
       "        vertical-align: middle;\n",
       "    }\n",
       "\n",
       "    .dataframe tbody tr th {\n",
       "        vertical-align: top;\n",
       "    }\n",
       "\n",
       "    .dataframe thead th {\n",
       "        text-align: right;\n",
       "    }\n",
       "</style>\n",
       "<table border=\"1\" class=\"dataframe\">\n",
       "  <thead>\n",
       "    <tr style=\"text-align: right;\">\n",
       "      <th></th>\n",
       "      <th>reviewId</th>\n",
       "      <th>userName</th>\n",
       "      <th>userImage</th>\n",
       "      <th>content</th>\n",
       "      <th>score</th>\n",
       "      <th>thumbsUpCount</th>\n",
       "      <th>reviewCreatedVersion</th>\n",
       "      <th>at</th>\n",
       "      <th>replyContent</th>\n",
       "      <th>repliedAt</th>\n",
       "      <th>clean_content</th>\n",
       "      <th>lemmas</th>\n",
       "    </tr>\n",
       "  </thead>\n",
       "  <tbody>\n",
       "    <tr>\n",
       "      <th>613</th>\n",
       "      <td>gp:AOqpTOH_f7u8mYgjkTXUejDoR7MZoAmLCPwDPt6gmOy...</td>\n",
       "      <td>John Kotrla</td>\n",
       "      <td>https://play-lh.googleusercontent.com/a-/AOh14...</td>\n",
       "      <td>Facebook?</td>\n",
       "      <td>1</td>\n",
       "      <td>0</td>\n",
       "      <td>13.3.0</td>\n",
       "      <td>2022-03-15 10:13:13</td>\n",
       "      <td>Hi John, thanks for trying out Tinder. We use ...</td>\n",
       "      <td>2014-05-21 06:22:35</td>\n",
       "      <td>facebook</td>\n",
       "      <td>[facebook]</td>\n",
       "    </tr>\n",
       "    <tr>\n",
       "      <th>650</th>\n",
       "      <td>gp:AOqpTOFZkLh0OtnijjZVBzvBBfRfjd3ve6BtKPEJnhD...</td>\n",
       "      <td>Gerry Memmo</td>\n",
       "      <td>https://play-lh.googleusercontent.com/a/AATXAJ...</td>\n",
       "      <td>Took away the daily free super like and now yo...</td>\n",
       "      <td>2</td>\n",
       "      <td>3</td>\n",
       "      <td>13.2.0</td>\n",
       "      <td>2022-03-15 03:53:09</td>\n",
       "      <td>We think we know what’s going on: if only some...</td>\n",
       "      <td>2019-03-25 05:16:29</td>\n",
       "      <td>took away the daily free super like and now yo...</td>\n",
       "      <td>[take, away, daily, free, super, like, pay]</td>\n",
       "    </tr>\n",
       "  </tbody>\n",
       "</table>\n",
       "</div>"
      ],
      "text/plain": [
       "                                              reviewId     userName  \\\n",
       "613  gp:AOqpTOH_f7u8mYgjkTXUejDoR7MZoAmLCPwDPt6gmOy...  John Kotrla   \n",
       "650  gp:AOqpTOFZkLh0OtnijjZVBzvBBfRfjd3ve6BtKPEJnhD...  Gerry Memmo   \n",
       "\n",
       "                                             userImage  \\\n",
       "613  https://play-lh.googleusercontent.com/a-/AOh14...   \n",
       "650  https://play-lh.googleusercontent.com/a/AATXAJ...   \n",
       "\n",
       "                                               content  score  thumbsUpCount  \\\n",
       "613                                          Facebook?      1              0   \n",
       "650  Took away the daily free super like and now yo...      2              3   \n",
       "\n",
       "    reviewCreatedVersion                   at  \\\n",
       "613               13.3.0  2022-03-15 10:13:13   \n",
       "650               13.2.0  2022-03-15 03:53:09   \n",
       "\n",
       "                                          replyContent            repliedAt  \\\n",
       "613  Hi John, thanks for trying out Tinder. We use ...  2014-05-21 06:22:35   \n",
       "650  We think we know what’s going on: if only some...  2019-03-25 05:16:29   \n",
       "\n",
       "                                         clean_content  \\\n",
       "613                                           facebook   \n",
       "650  took away the daily free super like and now yo...   \n",
       "\n",
       "                                          lemmas  \n",
       "613                                   [facebook]  \n",
       "650  [take, away, daily, free, super, like, pay]  "
      ]
     },
     "execution_count": 13,
     "metadata": {},
     "output_type": "execute_result"
    }
   ],
   "source": [
    "# Confirm our changes\n",
    "tinder.head(2)"
   ]
  },
  {
   "cell_type": "markdown",
   "metadata": {},
   "source": [
    "\n",
    "## Gensim LDA Topic Modeling\n"
   ]
  },
  {
   "cell_type": "code",
   "execution_count": 14,
   "metadata": {},
   "outputs": [],
   "source": [
    "# Dictionary representation of all the words in our corpus\n",
    "# We get our Bag of Words representation\n",
    "id2word = corpora.Dictionary(tinder['lemmas'])\n",
    "corpus = [id2word.doc2bow(text) for text in tinder['lemmas']]"
   ]
  },
  {
   "cell_type": "code",
   "execution_count": 15,
   "metadata": {},
   "outputs": [],
   "source": [
    "# Further filter our tokens to the chosen parameters\n",
    "id2word.filter_extremes(no_below=3, no_above=0.95)\n",
    "corpus = [id2word.doc2bow(text) for text in tinder['lemmas']]"
   ]
  },
  {
   "cell_type": "code",
   "execution_count": 16,
   "metadata": {},
   "outputs": [
    {
     "name": "stdout",
     "output_type": "stream",
     "text": [
      "['app', 'break', 'find', 'single', 'match', 'inspite', 'have', 'cool', 'bio', 'update', 'photo', 'turn', 'smart', 'photo', 'app', 'worth', 'time', 'guy', 'win', 'allow', 'like', 'disservice', 'mankind', 'trash', 'gross', 'rate', 'star', 'understand']\n"
     ]
    },
    {
     "data": {
      "text/plain": [
       "[(4, 1),\n",
       " (14, 1),\n",
       " (18, 1),\n",
       " (19, 2),\n",
       " (20, 1),\n",
       " (21, 1),\n",
       " (22, 1),\n",
       " (23, 1),\n",
       " (24, 1),\n",
       " (25, 1),\n",
       " (26, 1),\n",
       " (27, 1),\n",
       " (28, 1),\n",
       " (29, 2),\n",
       " (30, 1),\n",
       " (31, 1),\n",
       " (32, 1),\n",
       " (33, 1),\n",
       " (34, 1),\n",
       " (35, 1),\n",
       " (36, 1),\n",
       " (37, 1),\n",
       " (38, 1),\n",
       " (39, 1)]"
      ]
     },
     "execution_count": 16,
     "metadata": {},
     "output_type": "execute_result"
    }
   ],
   "source": [
    "# First representative of index and second is count\n",
    "print(tinder.lemmas.iloc[3])\n",
    "corpus[3]"
   ]
  },
  {
   "cell_type": "code",
   "execution_count": 17,
   "metadata": {},
   "outputs": [
    {
     "name": "stdout",
     "output_type": "stream",
     "text": [
      "48\n",
      "361280\n"
     ]
    }
   ],
   "source": [
    "# Good to measure the amount of memory we will need and use\n",
    "# We have over 361000 words in our corpus\n",
    "import sys\n",
    "print(sys.getsizeof(id2word))\n",
    "print(sys.getsizeof(corpus))"
   ]
  },
  {
   "cell_type": "code",
   "execution_count": 18,
   "metadata": {},
   "outputs": [
    {
     "data": {
      "text/plain": [
       "3503"
      ]
     },
     "execution_count": 18,
     "metadata": {},
     "output_type": "execute_result"
    }
   ],
   "source": [
    "# The size of documents\n",
    "len(id2word.keys())"
   ]
  },
  {
   "cell_type": "code",
   "execution_count": 19,
   "metadata": {},
   "outputs": [
    {
     "data": {
      "text/plain": [
       "[('like', 1),\n",
       " ('time', 1),\n",
       " ('allow', 1),\n",
       " ('app', 2),\n",
       " ('bio', 1),\n",
       " ('break', 1),\n",
       " ('cool', 1),\n",
       " ('find', 1),\n",
       " ('gross', 1),\n",
       " ('guy', 1),\n",
       " ('have', 1),\n",
       " ('inspite', 1),\n",
       " ('match', 1),\n",
       " ('photo', 2),\n",
       " ('rate', 1),\n",
       " ('single', 1),\n",
       " ('smart', 1),\n",
       " ('star', 1),\n",
       " ('trash', 1),\n",
       " ('turn', 1),\n",
       " ('understand', 1),\n",
       " ('update', 1),\n",
       " ('win', 1),\n",
       " ('worth', 1)]"
      ]
     },
     "execution_count": 19,
     "metadata": {},
     "output_type": "execute_result"
    }
   ],
   "source": [
    "[(id2word[word_id], word_count) for word_id, word_count in corpus[3]]"
   ]
  },
  {
   "cell_type": "code",
   "execution_count": 20,
   "metadata": {},
   "outputs": [
    {
     "name": "stdout",
     "output_type": "stream",
     "text": [
      "CPU times: user 37.4 s, sys: 5.86 s, total: 43.3 s\n",
      "Wall time: 51.8 s\n"
     ]
    }
   ],
   "source": [
    "%%time\n",
    "lda_multicore = gensim.models.ldamulticore.LdaMulticore(corpus=corpus,\n",
    "                                                        id2word=id2word,\n",
    "                                                        random_state=42,\n",
    "                                                        num_topics=10, \n",
    "                                                        chunksize=90,\n",
    "                                                        passes=20,\n",
    "                                                        per_word_topics=True,\n",
    "                                                        workers=12)\n",
    "\n",
    "\n",
    "lda_multicore.save('tinder_lda4.model')"
   ]
  },
  {
   "cell_type": "code",
   "execution_count": 21,
   "metadata": {},
   "outputs": [],
   "source": [
    "from gensim import models\n",
    "lda_multicore =  models.LdaModel.load('tinder_lda4.model')"
   ]
  },
  {
   "cell_type": "code",
   "execution_count": 22,
   "metadata": {},
   "outputs": [],
   "source": [
    "words = [re.findall(r'\"([^\"]*)\"',t[1]) for t in lda_multicore.print_topics()]"
   ]
  },
  {
   "cell_type": "code",
   "execution_count": 23,
   "metadata": {},
   "outputs": [
    {
     "data": {
      "text/plain": [
       "['profile picture photo fake upload',\n",
       " 'good app open love connect',\n",
       " 'tinder don account facebook want',\n",
       " 'people app great mile cool',\n",
       " 'message notification send get tinder',\n",
       " 'log problem fix fun login',\n",
       " 'match get app message people',\n",
       " 'app work crash time update',\n",
       " 'log facebook let win sign',\n",
       " 'like swipe app well right']"
      ]
     },
     "execution_count": 23,
     "metadata": {},
     "output_type": "execute_result"
    }
   ],
   "source": [
    "topics = [' '.join(t[0:5]) for t in words]\n",
    "topics[0:15]"
   ]
  },
  {
   "cell_type": "code",
   "execution_count": 24,
   "metadata": {},
   "outputs": [],
   "source": [
    "import pyLDAvis.gensim\n",
    "\n",
    "pyLDAvis.enable_notebook()"
   ]
  },
  {
   "cell_type": "code",
   "execution_count": 25,
   "metadata": {},
   "outputs": [
    {
     "data": {
      "text/html": [
       "\n",
       "<link rel=\"stylesheet\" type=\"text/css\" href=\"https://cdn.rawgit.com/bmabey/pyLDAvis/files/ldavis.v1.0.0.css\">\n",
       "\n",
       "\n",
       "<div id=\"ldavis_el152621404391053790089717519915\"></div>\n",
       "<script type=\"text/javascript\">\n",
       "\n",
       "var ldavis_el152621404391053790089717519915_data = {\"mdsDat\": {\"x\": [0.2342759817796453, 0.15987592108109805, -0.09373561963347675, -0.012197422618928672, -0.1723143270287731, 0.034369187387337505, 0.2462383733818276, -0.1799818776127113, -0.24890253681391242, 0.03237232007789379], \"y\": [-0.009365596324813786, -0.11002450805553506, 0.08682644212816436, 0.14207720906448237, -0.1393105230271271, 0.18203748537955886, 0.0970985372690545, 0.08150903726880006, -0.0030771120294039943, -0.3277709716731803], \"topics\": [1, 2, 3, 4, 5, 6, 7, 8, 9, 10], \"cluster\": [1, 1, 1, 1, 1, 1, 1, 1, 1, 1], \"Freq\": [14.101697096885557, 12.758334093929138, 11.131514390495706, 11.071813238002736, 10.630417772138985, 9.545353121859488, 8.663955612270057, 8.601328653338546, 7.312741362040967, 6.182844659038817]}, \"tinfo\": {\"Term\": [\"match\", \"log\", \"good\", \"like\", \"profile\", \"facebook\", \"message\", \"let\", \"crash\", \"problem\", \"work\", \"picture\", \"people\", \"fix\", \"app\", \"login\", \"open\", \"win\", \"sign\", \"fun\", \"great\", \"go\", \"wrong\", \"account\", \"photo\", \"try\", \"swipe\", \"don\", \"fake\", \"get\", \"let\", \"sign\", \"error\", \"code\", \"samsung\", \"enter\", \"pl\", \"perfectly\", \"register\", \"circle\", \"release\", \"quit\", \"morning\", \"edge\", \"blah\", \"password\", \"bullshit\", \"correctly\", \"assume\", \"cell\", \"wth\", \"junk\", \"alternative\", \"smart\", \"loggin\", \"drive\", \"unavailable\", \"joy\", \"deactivate\", \"defeat\", \"press\", \"verification\", \"verify\", \"win\", \"numb\", \"log\", \"facebook\", \"kick\", \"wouldn\", \"past\", \"phone\", \"alert\", \"refuse\", \"page\", \"allow\", \"try\", \"say\", \"login\", \"keep\", \"fail\", \"click\", \"download\", \"ask\", \"anymore\", \"account\", \"app\", \"work\", \"doesn\", \"give\", \"use\", \"problem\", \"get\", \"time\", \"fix\", \"crash\", \"reinstall\", \"install\", \"android\", \"uninstalled\", \"freeze\", \"uninstall\", \"uninstalling\", \"constantly\", \"restart\", \"potential\", \"hang\", \"nexus\", \"rubbish\", \"refresh\", \"nearby\", \"cache\", \"sync\", \"temporary\", \"extremely\", \"reboot\", \"ios\", \"success\", \"buggy\", \"lack\", \"functionality\", \"eventually\", \"webcam\", \"failure\", \"important\", \"minute\", \"slow\", \"stop\", \"version\", \"force\", \"fine\", \"work\", \"close\", \"note\", \"time\", \"update\", \"clear\", \"keep\", \"doesn\", \"app\", \"load\", \"try\", \"phone\", \"late\", \"waste\", \"fail\", \"fix\", \"new\", \"tinder\", \"match\", \"chat\", \"talk\", \"conversation\", \"disappear\", \"undo\", \"ppl\", \"ugly\", \"alright\", \"sms\", \"hot\", \"local\", \"lame\", \"sit\", \"mess\", \"wtf\", \"usually\", \"msg\", \"middle\", \"second\", \"sex\", \"lady\", \"rarely\", \"useful\", \"anybody\", \"irritate\", \"avail\", \"excite\", \"accident\", \"town\", \"lose\", \"enable\", \"design\", \"single\", \"get\", \"girl\", \"city\", \"find\", \"stick\", \"delete\", \"new\", \"message\", \"appear\", \"people\", \"like\", \"person\", \"app\", \"don\", \"go\", \"think\", \"list\", \"moment\", \"update\", \"week\", \"know\", \"happen\", \"tinder\", \"useless\", \"time\", \"day\", \"notification\", \"money\", \"subscription\", \"access\", \"create\", \"gold\", \"cancel\", \"google\", \"refund\", \"charge\", \"information\", \"card\", \"social\", \"purchase\", \"impossible\", \"subscribe\", \"payment\", \"shouldn\", \"company\", \"move\", \"choice\", \"personal\", \"auto\", \"store\", \"credit\", \"offer\", \"unsubscribe\", \"haha\", \"prefer\", \"deduct\", \"bank\", \"want\", \"play\", \"plus\", \"pay\", \"account\", \"don\", \"month\", \"ban\", \"tinder\", \"use\", \"service\", \"mobile\", \"facebook\", \"waste\", \"know\", \"app\", \"need\", \"delete\", \"help\", \"ask\", \"try\", \"get\", \"time\", \"great\", \"mile\", \"cool\", \"away\", \"location\", \"pretty\", \"easy\", \"set\", \"galaxy\", \"distance\", \"simple\", \"awesome\", \"live\", \"lol\", \"common\", \"require\", \"glitches\", \"notify\", \"radius\", \"battery\", \"range\", \"fast\", \"interface\", \"complaint\", \"preference\", \"comment\", \"lag\", \"crop\", \"tho\", \"tablet\", \"nice\", \"country\", \"meet\", \"interest\", \"area\", \"age\", \"search\", \"people\", \"friend\", \"way\", \"setting\", \"idea\", \"turn\", \"show\", \"app\", \"new\", \"use\", \"find\", \"far\", \"say\", \"work\", \"need\", \"change\", \"bad\", \"receive\", \"read\", \"today\", \"okay\", \"trouble\", \"respond\", \"half\", \"mutual\", \"recommendation\", \"hit\", \"attempt\", \"reset\", \"resolve\", \"hasn\", \"correct\", \"glitch\", \"kill\", \"scroll\", \"begin\", \"lately\", \"dumb\", \"advice\", \"test\", \"barely\", \"upset\", \"highly\", \"repeatedly\", \"quality\", \"realize\", \"response\", \"sort\", \"send\", \"notification\", \"check\", \"message\", \"terrible\", \"support\", \"text\", \"reply\", \"team\", \"thank\", \"get\", \"tinder\", \"issue\", \"come\", \"don\", \"day\", \"hour\", \"update\", \"app\", \"time\", \"fix\", \"star\", \"long\", \"fun\", \"wrong\", \"unable\", \"oops\", \"connection\", \"concept\", \"previous\", \"internet\", \"asap\", \"software\", \"erase\", \"moto\", \"skip\", \"tech\", \"neat\", \"addict\", \"swap\", \"restore\", \"exact\", \"piss\", \"bla\", \"fantastic\", \"retrieve\", \"logo\", \"redownloaded\", \"sick\", \"memory\", \"anytime\", \"direct\", \"opps\", \"problem\", \"go\", \"login\", \"fix\", \"issue\", \"bug\", \"have\", \"say\", \"able\", \"log\", \"late\", \"try\", \"plz\", \"haven\", \"tell\", \"annoy\", \"keep\", \"app\", \"time\", \"day\", \"tinder\", \"update\", \"need\", \"swipe\", \"leave\", \"spam\", \"maybe\", \"accidentally\", \"recent\", \"decent\", \"limit\", \"free\", \"stay\", \"dislike\", \"shut\", \"bore\", \"high\", \"upgrade\", \"improve\", \"unfortunately\", \"ton\", \"dev\", \"home\", \"consider\", \"active\", \"female\", \"boost\", \"game\", \"locate\", \"non\", \"hundred\", \"advertise\", \"launch\", \"right\", \"well\", \"feel\", \"like\", \"feature\", \"super\", \"button\", \"user\", \"rate\", \"wish\", \"yes\", \"date\", \"look\", \"option\", \"star\", \"need\", \"app\", \"think\", \"tinder\", \"pay\", \"way\", \"pic\", \"thing\", \"profile\", \"picture\", \"photo\", \"fake\", \"upload\", \"view\", \"album\", \"save\", \"tap\", \"ability\", \"book\", \"real\", \"cam\", \"gallery\", \"sound\", \"plan\", \"meh\", \"crazy\", \"camera\", \"map\", \"spammers\", \"public\", \"status\", \"beware\", \"fan\", \"requirement\", \"name\", \"catfish\", \"default\", \"careful\", \"add\", \"report\", \"stuff\", \"site\", \"bot\", \"far\", \"post\", \"change\", \"exist\", \"info\", \"lot\", \"one\", \"edit\", \"girl\", \"figure\", \"people\", \"new\", \"moment\", \"account\", \"look\", \"want\", \"try\", \"delete\", \"way\", \"need\", \"allow\", \"find\", \"good\", \"open\", \"love\", \"connect\", \"near\", \"gps\", \"pass\", \"properly\", \"alot\", \"kinda\", \"rid\", \"idk\", \"ill\", \"droid\", \"unusable\", \"loop\", \"continuously\", \"forward\", \"menu\", \"initial\", \"excellent\", \"height\", \"flash\", \"acc\", \"unstable\", \"stable\", \"endless\", \"tend\", \"chick\", \"stage\", \"wifi\", \"pic\", \"min\", \"luck\", \"main\", \"download\", \"screen\", \"load\", \"bite\", \"app\", \"find\", \"datum\", \"application\", \"win\", \"doesn\", \"work\", \"anymore\", \"people\", \"search\", \"update\", \"use\", \"time\", \"start\"], \"Freq\": [5933.0, 8546.0, 2984.0, 4325.0, 2887.0, 5560.0, 3434.0, 2958.0, 2620.0, 2765.0, 5074.0, 1845.0, 4111.0, 3539.0, 14051.0, 2619.0, 1619.0, 2805.0, 2236.0, 1652.0, 1748.0, 1992.0, 1472.0, 2697.0, 1329.0, 4684.0, 1332.0, 2899.0, 1164.0, 3029.0, 2958.0363182114797, 2235.2242853418106, 1314.9402360559811, 584.0635757520896, 261.99408092459197, 145.49852026743446, 122.65863939234774, 94.72125550520332, 92.48246234088067, 80.78525431276236, 70.86916893312906, 67.55526278335894, 63.82612881352298, 57.08261347459878, 53.65837134358478, 52.145531830348226, 46.366777394453216, 41.80763593384026, 38.551728897860976, 38.356588030945616, 37.51146422091708, 36.499065309836496, 35.57672831787562, 35.500559028751525, 33.40661739657165, 30.846383069652084, 29.75391301817957, 26.374249672077127, 26.24596624841281, 25.461884674140528, 177.12850455965528, 307.12829194894204, 341.4022608268294, 2358.338416224391, 876.3105826595519, 6314.549138113689, 3966.49709671119, 123.05073519182982, 213.569648578044, 348.3787279572658, 1332.89600815066, 61.049824776470786, 132.01871364984262, 360.58970835996007, 382.95509835899816, 1750.201609636623, 1280.8942812761172, 986.8273264215845, 812.999304999291, 290.55380740542813, 267.7074431241082, 352.60547945667605, 294.61682069510067, 286.0947481614824, 681.2940597471783, 1367.1093292715643, 760.9280210512527, 465.1522378213821, 297.2117074329017, 481.5558996384133, 449.0198915274484, 407.9914370437985, 436.1004809184954, 322.496540909588, 2619.912495750518, 1357.9708095201695, 1001.6937000664311, 696.0369573565184, 656.3212711812205, 462.0066801864708, 386.1469855939944, 377.7846742310225, 575.0820729854651, 315.36099708334996, 132.85533948421917, 121.39198214942242, 118.7380854179424, 115.9177811493056, 109.58924472746598, 94.74297317699029, 90.68331879094463, 79.85826813784823, 75.37361171825579, 70.6879891842686, 62.101335988084614, 59.90850515879635, 59.186358601503656, 296.2196727054429, 52.70803111732928, 50.31514220426921, 49.426330753546914, 46.7359768353446, 45.14578699296777, 38.863819917060525, 327.0646669076095, 181.33606559899053, 666.0231170884065, 523.8964935971966, 486.01178562005407, 562.7971858700611, 3217.708736258905, 519.8771130399568, 145.16438895459518, 2267.7953513598773, 1761.1682600161616, 138.2290647108067, 1108.7604357233563, 815.5987382323826, 3373.2101943828916, 642.0295878313211, 1345.8043257133747, 773.7419255597382, 435.28400905066934, 339.2907408310075, 295.7931605247104, 765.1703495565181, 571.7318575837695, 463.95108937581335, 5932.250835062324, 536.3161505887088, 497.0430191434907, 406.40368985951477, 391.80498669168105, 267.86930750248956, 200.74257368824178, 134.3118820990682, 130.0340262077705, 119.63485236233785, 113.93828064853749, 112.98175428445185, 109.36547997827779, 109.27512141805342, 102.76050139246928, 100.86653885898909, 93.02975550469046, 85.33762718979078, 75.11279012010988, 73.87825697048771, 71.47766286977797, 71.40166644004688, 71.24698756561928, 69.94791803434399, 63.633516275716126, 60.34027975360753, 60.25603886784696, 59.56083972948902, 59.20147719414055, 57.49226927679055, 542.6884287675929, 115.96917910585358, 100.3754726213856, 310.9172982888741, 1483.7038274922143, 342.636948936161, 141.87261598472938, 706.8733897744789, 241.06772483716748, 580.9411456694219, 753.4240457545574, 901.2933553776134, 159.95224202953383, 900.1816671648004, 875.0594793453589, 262.9019083560812, 1217.1624790100363, 548.6368080294754, 419.9143281890577, 274.67653369463676, 161.59350732543228, 198.76686987283318, 469.13856042801814, 243.27822194813282, 269.31873879581116, 238.48701521557538, 411.1528015688919, 198.1275305251991, 374.60520424933145, 254.7106133925152, 221.97054820183928, 709.993439079087, 580.7786422323123, 525.6958255141865, 407.561043150491, 438.21567684617025, 356.4672339132148, 302.56279068335544, 301.8554631899837, 295.53296943083853, 216.92534441639455, 182.0422191814863, 137.218836821575, 134.10025983880612, 133.79439008476766, 128.87428045126669, 114.11816544537211, 99.13173581576596, 95.24260606492231, 91.84020642470563, 91.18299899380504, 89.54116452093852, 89.15614097057762, 87.72388033216056, 84.50706903828289, 84.20308710902893, 82.11079573032372, 77.52395459360444, 76.50181546183536, 74.87601907184805, 65.41054145236276, 1368.5188413685235, 227.606606480479, 365.7565791658621, 787.8652675281855, 1737.5036346270733, 1755.0094338539363, 681.4518881181103, 235.20486526007792, 2091.254356097676, 1342.9459623035198, 317.25943920853763, 165.36150051892946, 1508.9759719186893, 380.53423560099435, 389.9976652677, 1150.8019421333263, 327.2454929401438, 303.01162102587534, 258.91491636337713, 223.35522506573773, 309.5647665203007, 264.2188949401163, 255.34952327971115, 1747.0899603907337, 879.0486354948476, 833.4870000074657, 781.857678255473, 662.2458266244242, 636.516615177324, 628.8163916798877, 440.8194268377338, 380.6089756576855, 361.32669705033794, 284.814954744722, 248.09243151608362, 304.5820617594309, 215.84035375946166, 167.7736582154846, 157.59742423055715, 136.2393232943817, 134.89894866380237, 130.57786167271053, 124.73516796212029, 116.26784972889634, 106.23658037641898, 100.63670545960841, 99.87188452017675, 78.55290744656875, 75.85179921163146, 70.36736194185036, 69.89948585963451, 66.55626077047201, 65.68947908020655, 693.3771250725674, 78.15061541939103, 827.525413450401, 480.6762448284422, 447.27137659471333, 267.0912057493021, 606.9789485780925, 2472.2663783483977, 514.3585324012121, 827.9144672895414, 268.4135032942608, 257.41805527700024, 230.96503214289686, 414.5901420283441, 1986.6913242347857, 635.0917459504822, 668.9162550348312, 475.80090176901086, 312.586472276854, 418.21387752490347, 353.2704990002506, 302.74311884173017, 293.0089723661122, 653.5672510496753, 477.08292869346485, 268.5685239905647, 252.31354965040902, 247.8956754065004, 244.09531191242286, 233.01870012207573, 213.01820498492592, 203.4150510942793, 190.2927514821991, 166.938190920083, 140.04833989979258, 129.92852537000877, 120.4806428673686, 122.55792264020376, 112.17623205208922, 111.3222612156282, 103.90017261519081, 101.28899032190172, 83.52629229515553, 77.65346629217586, 68.83245296462427, 66.99796910669895, 66.79508455043766, 57.19300237386362, 57.13135520065161, 55.945331015215956, 55.651652295897655, 50.27119716836282, 49.37837578853865, 349.14049657689577, 301.43723168136773, 904.5517299329277, 982.4745706490132, 290.1366425486394, 2515.9327641602704, 202.62519418986173, 333.34856084295785, 125.55562678785775, 322.09610075441077, 116.4722360577652, 337.29694439863886, 783.6974911727882, 765.5134896288606, 383.3258068223229, 261.06748457580454, 476.97891066863093, 329.5905137065663, 194.19563623433797, 383.3396700796142, 594.3378357219677, 405.2523356296994, 316.7681341859288, 234.61529978517976, 203.17748659721528, 1651.6166429077484, 1471.7293543399257, 486.89065138581964, 430.83243768622356, 328.20444683908227, 236.68999234034902, 210.23143190760058, 206.06411297977553, 176.175350544397, 76.88055006912958, 62.63522635303953, 59.92553520583937, 58.54538483093327, 54.51624647370094, 53.54695123670537, 48.96027628775805, 44.50900214037804, 43.0886127127827, 42.024132644603995, 39.70268586875776, 39.34154012356136, 37.03569698594552, 36.131411412456345, 35.63528034718397, 33.07815334411013, 30.149938717297054, 29.60901149281929, 29.294505193762088, 28.590897180591046, 28.478545709376753, 2228.5574601179264, 1571.8359660796093, 1631.3827206591754, 2073.5532657373496, 962.3209778717912, 592.2324881950746, 517.3444686494231, 1167.5678849227074, 515.7888531862847, 2230.8121924371626, 372.77526998739427, 1019.3196570093447, 61.52019933421971, 191.97665244556245, 261.9205609532428, 208.30113127860335, 399.1976505556744, 1013.2413342595647, 515.3256770577144, 261.3098954901905, 421.6479489273944, 321.27513885570244, 182.73489319037117, 1331.7592394699439, 447.88371005033036, 327.7851155744619, 324.4891659226594, 234.18488045117093, 208.9952555165978, 201.11468263973688, 181.35130669687794, 177.13614609230066, 170.63042199710927, 168.56681318089457, 164.35878910398563, 161.35098494088385, 150.25917103146173, 140.65547372817, 131.93573685933532, 116.5325043363635, 106.89247621469411, 102.84260151927951, 92.10798064056755, 87.2526211259553, 85.86140416156022, 84.36900563882884, 83.45532058454219, 80.72457737679932, 78.06435484751124, 75.874946726141, 74.30066800614333, 69.31956811183335, 68.70277570309591, 707.2729468005274, 890.9921009995765, 206.68667393043938, 3379.6011745196943, 310.54313378228596, 209.16181814401307, 364.94762095820823, 420.69992977248364, 405.598958658995, 267.04993910214216, 234.86749914355747, 308.40639192565345, 370.3506402249983, 298.71040426088194, 317.80094313735117, 385.8334483051087, 927.9577953542308, 262.41831955084206, 387.2587110895729, 248.02301353101754, 254.37698493052378, 216.64219550050728, 190.51523676124563, 2886.3853293579864, 1844.169884776204, 1328.8504264646713, 1163.5629864775426, 909.6175217737026, 395.3579523004142, 205.74750851539554, 132.40973364668196, 106.39876079766503, 99.74274929197436, 90.21790512630628, 362.09522857013263, 77.78068784809182, 73.25323224615961, 71.44202289589238, 65.52946656605977, 64.55089183304756, 56.010378067478904, 46.37600366846905, 44.149927059164476, 43.71002765806594, 37.18849503164059, 35.43020275019805, 34.69921076448343, 33.898307462732035, 32.88911469605126, 31.752142223547608, 31.435218717153692, 31.168676780205132, 30.8539408726171, 888.9328343409514, 198.36898823157338, 127.34968958126923, 324.5482178227405, 419.40417196847324, 549.371320737774, 120.26149093439237, 644.2491620043838, 68.06997014724315, 184.1189362116125, 428.2130367539724, 134.1045048498209, 262.8260248395167, 196.696593993319, 88.54529379809406, 407.2819132542138, 287.91643607194607, 142.0958756510218, 277.008411589543, 169.81989979090926, 194.4747506381922, 232.97424079238286, 167.00339694358854, 165.62056731063163, 161.52587219003067, 138.47259972347433, 138.63771055243117, 2983.311987751939, 1618.784840215981, 797.9549609980292, 680.373281936198, 565.7545635960699, 549.9010143924663, 197.26902348082317, 158.92227783828926, 132.71917754182076, 129.51116713706892, 86.80701004129088, 72.55347977053975, 72.25109746017864, 66.97289539775409, 65.2053119547366, 54.102247676149204, 52.13005612507025, 52.071386897351005, 52.061908329676804, 43.87087276714693, 41.71046999468818, 37.45804991530692, 36.41322137646547, 31.77563212243661, 31.650744698502873, 28.915053109365363, 27.015087396822697, 24.107708544152526, 23.69589207547746, 21.563915593362392, 201.2196001257116, 593.432169458309, 107.64865783661143, 104.42480589323429, 58.56481287196765, 386.5221719411712, 360.214148512762, 596.141213753419, 139.93543607521457, 2402.4305714157395, 503.0221835920309, 148.19653961963792, 142.92612654902112, 446.36565018126356, 340.5728996603318, 553.9896562117789, 185.3718491323237, 286.5999586608701, 155.25062710788896, 228.4610789227904, 154.3438943346782, 126.8019157630226, 113.244589582379], \"Total\": [5933.0, 8546.0, 2984.0, 4325.0, 2887.0, 5560.0, 3434.0, 2958.0, 2620.0, 2765.0, 5074.0, 1845.0, 4111.0, 3539.0, 14051.0, 2619.0, 1619.0, 2805.0, 2236.0, 1652.0, 1748.0, 1992.0, 1472.0, 2697.0, 1329.0, 4684.0, 1332.0, 2899.0, 1164.0, 3029.0, 2958.971713799271, 2236.159685843031, 1315.8756158503118, 584.9989767432727, 262.92966641459617, 146.48146777452993, 123.59407446396331, 95.65689922206762, 93.4179638559223, 81.72081849157088, 71.8054024022265, 68.49089830620949, 64.76159499326839, 58.018169589736296, 54.59370309511726, 53.08096879343733, 47.302466631147986, 42.74336906194901, 39.48762001664709, 39.29202335979145, 38.44693143317178, 37.434532947903215, 36.51225623615387, 36.436215863925916, 34.341978013110385, 31.78201883833533, 30.68931976950683, 27.309749072680933, 27.18152837220239, 26.3978845946175, 184.81572935759155, 326.5915373980848, 366.603167943372, 2805.543761036394, 1056.6946786436677, 8546.197384102521, 5560.071135094142, 140.3972216931747, 258.3869537061284, 448.83277872834157, 2212.5765702029, 66.83523984946906, 163.99277454041814, 539.6684784951939, 602.0407791659094, 4684.762898420923, 3194.299512195989, 2619.033942066288, 2321.682558053557, 587.1836956629851, 528.1198634497159, 855.9690273856038, 651.0815890699882, 619.6766412604957, 2697.4972302167193, 14051.587810601992, 5074.7289694058045, 1887.1595984427536, 752.0684961721807, 2941.073543130814, 2765.11195138763, 3029.211444540512, 4467.869718992794, 3539.3178312484474, 2620.8490980526544, 1358.9074569312002, 1002.6303896869612, 696.9736743032919, 657.2579483495512, 462.9433017551444, 387.08365676932056, 378.7213683082619, 576.641256249932, 316.2976512020726, 133.79242522588797, 122.32862483131845, 119.67479810747821, 116.85446119838741, 110.5260693620452, 95.67981677107294, 91.61993030096696, 80.79517142021074, 76.31029142588669, 71.62484497568683, 63.0379570746559, 60.845308528657036, 60.123213773268944, 301.09979883214396, 53.64491131612753, 51.251945349357726, 50.3630636342099, 47.67358869176273, 46.08253458337915, 39.800960023590434, 349.52419279249796, 199.51733356919294, 800.2133543091347, 621.0264616130048, 575.9353923135034, 707.0749049901384, 5074.7289694058045, 678.5880665305532, 166.05873400812249, 4467.869718992794, 3387.2304077246745, 159.53120086119867, 2321.682558053557, 1887.1595984427536, 14051.587810601992, 1533.0369458026125, 4684.762898420923, 2212.5765702029, 1014.1877388162977, 741.2657634873752, 587.1836956629851, 3539.3178312484474, 2397.3785334840527, 4771.672709975089, 5933.195829460059, 537.2521802198847, 497.9791973694473, 407.3396972756571, 392.7409567061856, 268.80548794666174, 201.67862813080225, 135.24784305070617, 130.97000904247062, 120.57101348894577, 114.87432814225576, 113.91783996614728, 110.30154640227103, 110.21126205681907, 103.69660350729649, 101.80262533593424, 93.96583863231919, 86.27366348001546, 76.04878362523903, 74.81431614111271, 72.41375291624692, 72.33769950041034, 72.18303663210763, 70.88393161530759, 64.56958023120941, 61.276329076819884, 61.19229367218903, 60.49690869281075, 60.137668331492094, 58.428392436087236, 572.7343150619263, 119.91138241160357, 104.92573189175613, 361.51610219389056, 3029.211444540512, 540.1671463247609, 182.75037188016773, 1824.9896132631877, 410.41289574548193, 1462.5135885008244, 2397.3785334840527, 3434.3468037537314, 240.300305405569, 4111.695553357575, 4325.513350790549, 572.8334778314019, 14051.587810601992, 2899.7539428885034, 1992.5760670106263, 816.8408567819421, 253.91058344725127, 423.6213859668623, 3387.2304077246745, 713.5525294114121, 1071.4565338796667, 810.7450458123957, 4771.672709975089, 472.22061325837984, 4467.869718992794, 1285.5569310278215, 1205.2769191944933, 710.8919696183308, 581.6771410062881, 526.5944240371192, 408.4867082520972, 439.2555463036034, 357.36573132192757, 303.4613632105955, 302.75395509155817, 296.4314741071916, 217.82394286132583, 182.9407409923946, 138.11743873754085, 134.99877410794494, 134.69332871802916, 129.77279027754483, 115.01665610359888, 100.03043148013268, 96.14117650566307, 92.73898283149882, 92.0817517237659, 90.43975744323369, 90.05472530012035, 88.62244276637429, 85.40559442619096, 85.10186324340292, 83.00928113358286, 78.42269200721935, 77.4005931664314, 75.77450575452146, 66.30903417974989, 1718.2085478783235, 254.69307824604633, 437.0693146745743, 1036.6833869430507, 2697.4972302167193, 2899.7539428885034, 1078.6610765372134, 297.91841516963075, 4771.672709975089, 2941.073543130814, 461.5376068145311, 208.82494215710116, 5560.071135094142, 741.2657634873752, 1071.4565338796667, 14051.587810601992, 1634.8224539880055, 1462.5135885008244, 941.8795414308577, 651.0815890699882, 4684.762898420923, 3029.211444540512, 4467.869718992794, 1748.4387485077723, 880.0008611239697, 834.4392468081015, 782.809925791524, 663.198128887701, 637.4689212773131, 629.7686533217459, 441.77169334064433, 381.56139095553937, 362.27893326776064, 285.767243263875, 249.0446968101487, 305.90387242028356, 216.79264718565878, 168.72595370720566, 158.54977631924595, 137.19164185368402, 135.85128884276162, 131.53010429563201, 125.68750040568922, 117.22011230195467, 107.18891595117086, 101.58902745735534, 100.82422415291147, 79.50518598728078, 76.80421973469234, 71.31967881384932, 70.8520887050172, 67.50854363014406, 66.6419149115953, 710.4038595241973, 79.32748121194572, 989.597213531834, 553.7403085255652, 515.0749188429237, 306.2007808408751, 763.0864742218275, 4111.695553357575, 752.8209783812418, 1509.7859687141433, 386.6004212677027, 381.85873958588394, 336.4611537750795, 923.1995864341832, 14051.587810601992, 2397.3785334840527, 2941.073543130814, 1824.9896132631877, 862.807695802318, 3194.299512195989, 5074.7289694058045, 1634.8224539880055, 1167.7058257775566, 654.4984936928806, 478.014125107267, 269.5239290614041, 253.24479578501, 248.8268909359236, 245.02656282614456, 233.94994145717953, 213.94946623129456, 204.34642232164057, 191.22460425299914, 167.86952110715555, 140.97960833128866, 130.8597960019276, 121.41187996004325, 123.52491581145942, 113.107522828429, 112.25355752254217, 104.83145113199063, 102.2202614849088, 84.45759565513593, 78.58470588473405, 69.76378610827452, 67.92921352127709, 67.72633991595852, 58.124264276248226, 58.06265139716865, 56.87660318030133, 56.58292075945365, 51.202542148726444, 50.30966541339661, 371.6737772589963, 326.40975370711135, 1049.5489832456142, 1205.2769191944933, 331.0183809119932, 3434.3468037537314, 231.9339956011335, 422.6134612980538, 140.30994640206694, 478.54897561337367, 134.50501412180373, 651.4316453831409, 3029.211444540512, 4771.672709975089, 1574.9538068439635, 703.8135298584193, 2899.7539428885034, 1285.5569310278215, 438.96180985187755, 3387.2304077246745, 14051.587810601992, 4467.869718992794, 3539.3178312484474, 973.3176869076199, 692.9670777862091, 1652.540638327264, 1472.6532547607644, 487.81455260477884, 431.75627530524315, 329.12839254232716, 237.614124360396, 211.1554706756772, 206.98808117572347, 177.0992549285642, 77.80456283981805, 63.55919131966093, 60.849608474104464, 59.46954910058444, 55.440313818629704, 54.470979447874626, 49.88427460734725, 45.43302662346531, 44.012541767504445, 42.94818016480512, 40.62659575432759, 40.265370140894646, 37.95975116562408, 37.055445880527195, 36.559228717946695, 34.0021191300236, 31.073870240404514, 30.533032901196712, 30.21854175017185, 29.514949425419054, 29.402385617044676, 2765.11195138763, 1992.5760670106263, 2619.033942066288, 3539.3178312484474, 1574.9538068439635, 929.4661066895512, 889.5127231236792, 3194.299512195989, 1122.6748449675076, 8546.197384102521, 1014.1877388162977, 4684.762898420923, 76.54375974472573, 511.10847760748055, 880.3288570023648, 602.3760632859595, 2321.682558053557, 14051.587810601992, 4467.869718992794, 1285.5569310278215, 4771.672709975089, 3387.2304077246745, 1634.8224539880055, 1332.7217428276028, 448.8156940190174, 328.7170553404045, 325.42116930185693, 235.1168281546618, 209.92727561603627, 202.04868016061107, 182.28330252518793, 178.0680742677214, 171.56246508692993, 169.49877085202252, 165.2907955718469, 162.28293993036993, 151.191193142005, 141.58743102686756, 132.86789592819778, 117.46457572930296, 107.82446552613769, 103.77463151753722, 93.0400336402695, 88.1846268649713, 86.79344062690134, 85.3009687954225, 84.38724451904143, 81.6565379023448, 78.99642455398725, 76.80691243915562, 75.23271226631026, 70.25152487224743, 69.63484644190386, 717.0670976202255, 966.2484419145771, 214.89366319956582, 4325.513350790549, 346.02233146823005, 234.43496422765065, 533.00709043764, 653.3258018595692, 636.1319360402317, 426.3966250347387, 392.264278467226, 717.7495466222726, 1009.1114914600638, 780.8093131823944, 973.3176869076199, 1634.8224539880055, 14051.587810601992, 816.8408567819421, 4771.672709975089, 1036.6833869430507, 1509.7859687141433, 810.9111366149825, 774.0953315766708, 2887.412044454702, 1845.1028924283419, 1329.7834140829164, 1164.4959225104042, 910.5504980811694, 396.29186482576756, 206.68047702617886, 133.342787022939, 107.33181762506581, 100.67581528068959, 91.15097014185217, 366.0661086625037, 78.71857985519283, 74.18616559019213, 72.37510253647658, 66.46255814439623, 65.48384832989841, 56.94342508845881, 47.30905792972937, 45.083508213384064, 44.64297098626797, 38.12149051874938, 36.36321056575664, 35.632204301999245, 34.83142238428212, 33.82228010810428, 32.68511535785692, 32.36814791326561, 32.10179239779583, 31.786930230584858, 1018.7843422695553, 221.47342032743907, 142.04124837521738, 422.7488223956191, 574.1417691386761, 862.807695802318, 150.17341456214473, 1167.7058257775566, 80.55209889186075, 296.44774977168794, 979.1666098374099, 225.3144215186434, 607.4847945248054, 540.1671463247609, 130.25173236634686, 4111.695553357575, 2397.3785334840527, 423.6213859668623, 2697.4972302167193, 1009.1114914600638, 1718.2085478783235, 4684.762898420923, 1462.5135885008244, 1509.7859687141433, 1634.8224539880055, 602.0407791659094, 1824.9896132631877, 2984.2516588523235, 1619.7244758528968, 798.8947393633331, 681.3129809268466, 566.6942752769933, 550.840823921332, 198.20874341293498, 159.8619626143136, 133.6588502537558, 130.45087709430476, 87.74675061414902, 73.4951738238655, 73.1908870983915, 67.91270487577107, 66.14499641055518, 55.04192447618064, 53.06971974072568, 53.011184944059785, 53.001616871058324, 44.810609576326534, 42.650164930016764, 38.3979172134648, 37.35289187094284, 32.71528575520707, 32.59046622083137, 29.85473113166132, 27.95487267451846, 25.047445904555346, 24.63562210280108, 22.503581550160327, 243.66614501249967, 810.9111366149825, 129.22296858589633, 138.79521138949195, 73.23186430060053, 855.9690273856038, 782.2203647632869, 1533.0369458026125, 241.20015684209164, 14051.587810601992, 1824.9896132631877, 295.7583786279347, 289.3736144457531, 2805.543761036394, 1887.1595984427536, 5074.7289694058045, 619.6766412604957, 4111.695553357575, 763.0864742218275, 3387.2304077246745, 2941.073543130814, 4467.869718992794, 805.1020739976926], \"Category\": [\"Default\", \"Default\", \"Default\", \"Default\", \"Default\", \"Default\", \"Default\", \"Default\", \"Default\", \"Default\", \"Default\", \"Default\", \"Default\", \"Default\", \"Default\", \"Default\", \"Default\", \"Default\", \"Default\", \"Default\", \"Default\", \"Default\", \"Default\", \"Default\", \"Default\", \"Default\", \"Default\", \"Default\", \"Default\", \"Default\", \"Topic1\", \"Topic1\", \"Topic1\", \"Topic1\", \"Topic1\", \"Topic1\", \"Topic1\", \"Topic1\", \"Topic1\", \"Topic1\", \"Topic1\", \"Topic1\", \"Topic1\", \"Topic1\", \"Topic1\", \"Topic1\", \"Topic1\", \"Topic1\", \"Topic1\", \"Topic1\", \"Topic1\", \"Topic1\", \"Topic1\", \"Topic1\", \"Topic1\", \"Topic1\", \"Topic1\", \"Topic1\", \"Topic1\", \"Topic1\", \"Topic1\", \"Topic1\", \"Topic1\", \"Topic1\", \"Topic1\", \"Topic1\", \"Topic1\", \"Topic1\", \"Topic1\", \"Topic1\", \"Topic1\", \"Topic1\", \"Topic1\", \"Topic1\", \"Topic1\", \"Topic1\", \"Topic1\", \"Topic1\", \"Topic1\", \"Topic1\", \"Topic1\", \"Topic1\", \"Topic1\", \"Topic1\", \"Topic1\", \"Topic1\", \"Topic1\", \"Topic1\", \"Topic1\", \"Topic1\", \"Topic1\", \"Topic1\", \"Topic1\", \"Topic1\", \"Topic2\", \"Topic2\", \"Topic2\", \"Topic2\", \"Topic2\", \"Topic2\", \"Topic2\", \"Topic2\", \"Topic2\", \"Topic2\", \"Topic2\", \"Topic2\", \"Topic2\", \"Topic2\", \"Topic2\", \"Topic2\", \"Topic2\", \"Topic2\", \"Topic2\", \"Topic2\", \"Topic2\", \"Topic2\", \"Topic2\", \"Topic2\", \"Topic2\", \"Topic2\", \"Topic2\", \"Topic2\", \"Topic2\", \"Topic2\", \"Topic2\", \"Topic2\", \"Topic2\", \"Topic2\", \"Topic2\", \"Topic2\", \"Topic2\", \"Topic2\", \"Topic2\", \"Topic2\", \"Topic2\", \"Topic2\", \"Topic2\", \"Topic2\", \"Topic2\", \"Topic2\", \"Topic2\", \"Topic2\", \"Topic2\", \"Topic2\", \"Topic2\", \"Topic2\", \"Topic2\", \"Topic2\", \"Topic3\", \"Topic3\", \"Topic3\", \"Topic3\", \"Topic3\", \"Topic3\", \"Topic3\", \"Topic3\", \"Topic3\", \"Topic3\", \"Topic3\", \"Topic3\", \"Topic3\", \"Topic3\", \"Topic3\", \"Topic3\", \"Topic3\", \"Topic3\", \"Topic3\", \"Topic3\", \"Topic3\", \"Topic3\", \"Topic3\", \"Topic3\", \"Topic3\", \"Topic3\", \"Topic3\", \"Topic3\", \"Topic3\", \"Topic3\", \"Topic3\", \"Topic3\", \"Topic3\", \"Topic3\", \"Topic3\", \"Topic3\", \"Topic3\", \"Topic3\", \"Topic3\", \"Topic3\", \"Topic3\", \"Topic3\", \"Topic3\", \"Topic3\", \"Topic3\", \"Topic3\", \"Topic3\", \"Topic3\", \"Topic3\", \"Topic3\", \"Topic3\", \"Topic3\", \"Topic3\", \"Topic3\", \"Topic3\", \"Topic3\", \"Topic3\", \"Topic3\", \"Topic3\", \"Topic3\", \"Topic3\", \"Topic4\", \"Topic4\", \"Topic4\", \"Topic4\", \"Topic4\", \"Topic4\", \"Topic4\", \"Topic4\", \"Topic4\", \"Topic4\", \"Topic4\", \"Topic4\", \"Topic4\", \"Topic4\", \"Topic4\", \"Topic4\", \"Topic4\", \"Topic4\", \"Topic4\", \"Topic4\", \"Topic4\", \"Topic4\", \"Topic4\", \"Topic4\", \"Topic4\", \"Topic4\", \"Topic4\", \"Topic4\", \"Topic4\", \"Topic4\", \"Topic4\", \"Topic4\", \"Topic4\", \"Topic4\", \"Topic4\", \"Topic4\", \"Topic4\", \"Topic4\", \"Topic4\", \"Topic4\", \"Topic4\", \"Topic4\", \"Topic4\", \"Topic4\", \"Topic4\", \"Topic4\", \"Topic4\", \"Topic4\", \"Topic4\", \"Topic4\", \"Topic4\", \"Topic4\", \"Topic4\", \"Topic5\", \"Topic5\", \"Topic5\", \"Topic5\", \"Topic5\", \"Topic5\", \"Topic5\", \"Topic5\", \"Topic5\", \"Topic5\", \"Topic5\", \"Topic5\", \"Topic5\", \"Topic5\", \"Topic5\", \"Topic5\", \"Topic5\", \"Topic5\", \"Topic5\", \"Topic5\", \"Topic5\", \"Topic5\", \"Topic5\", \"Topic5\", \"Topic5\", \"Topic5\", \"Topic5\", \"Topic5\", \"Topic5\", \"Topic5\", \"Topic5\", \"Topic5\", \"Topic5\", \"Topic5\", \"Topic5\", \"Topic5\", \"Topic5\", \"Topic5\", \"Topic5\", \"Topic5\", \"Topic5\", \"Topic5\", \"Topic5\", \"Topic5\", \"Topic5\", \"Topic5\", \"Topic5\", \"Topic5\", \"Topic5\", \"Topic5\", \"Topic5\", \"Topic5\", \"Topic5\", \"Topic6\", \"Topic6\", \"Topic6\", \"Topic6\", \"Topic6\", \"Topic6\", \"Topic6\", \"Topic6\", \"Topic6\", \"Topic6\", \"Topic6\", \"Topic6\", \"Topic6\", \"Topic6\", \"Topic6\", \"Topic6\", \"Topic6\", \"Topic6\", \"Topic6\", \"Topic6\", \"Topic6\", \"Topic6\", \"Topic6\", \"Topic6\", \"Topic6\", \"Topic6\", \"Topic6\", \"Topic6\", \"Topic6\", \"Topic6\", \"Topic6\", \"Topic6\", \"Topic6\", \"Topic6\", \"Topic6\", \"Topic6\", \"Topic6\", \"Topic6\", \"Topic6\", \"Topic6\", \"Topic6\", \"Topic6\", \"Topic6\", \"Topic6\", \"Topic6\", \"Topic6\", \"Topic6\", \"Topic6\", \"Topic6\", \"Topic6\", \"Topic6\", \"Topic6\", \"Topic6\", \"Topic6\", \"Topic6\", \"Topic7\", \"Topic7\", \"Topic7\", \"Topic7\", \"Topic7\", \"Topic7\", \"Topic7\", \"Topic7\", \"Topic7\", \"Topic7\", \"Topic7\", \"Topic7\", \"Topic7\", \"Topic7\", \"Topic7\", \"Topic7\", \"Topic7\", \"Topic7\", \"Topic7\", \"Topic7\", \"Topic7\", \"Topic7\", \"Topic7\", \"Topic7\", \"Topic7\", \"Topic7\", \"Topic7\", \"Topic7\", \"Topic7\", \"Topic7\", \"Topic7\", \"Topic7\", \"Topic7\", \"Topic7\", \"Topic7\", \"Topic7\", \"Topic7\", \"Topic7\", \"Topic7\", \"Topic7\", \"Topic7\", \"Topic7\", \"Topic7\", \"Topic7\", \"Topic7\", \"Topic7\", \"Topic7\", \"Topic7\", \"Topic7\", \"Topic7\", \"Topic7\", \"Topic7\", \"Topic7\", \"Topic8\", \"Topic8\", \"Topic8\", \"Topic8\", \"Topic8\", \"Topic8\", \"Topic8\", \"Topic8\", \"Topic8\", \"Topic8\", \"Topic8\", \"Topic8\", \"Topic8\", \"Topic8\", \"Topic8\", \"Topic8\", \"Topic8\", \"Topic8\", \"Topic8\", \"Topic8\", \"Topic8\", \"Topic8\", \"Topic8\", \"Topic8\", \"Topic8\", \"Topic8\", \"Topic8\", \"Topic8\", \"Topic8\", \"Topic8\", \"Topic8\", \"Topic8\", \"Topic8\", \"Topic8\", \"Topic8\", \"Topic8\", \"Topic8\", \"Topic8\", \"Topic8\", \"Topic8\", \"Topic8\", \"Topic8\", \"Topic8\", \"Topic8\", \"Topic8\", \"Topic8\", \"Topic8\", \"Topic8\", \"Topic8\", \"Topic8\", \"Topic8\", \"Topic8\", \"Topic8\", \"Topic9\", \"Topic9\", \"Topic9\", \"Topic9\", \"Topic9\", \"Topic9\", \"Topic9\", \"Topic9\", \"Topic9\", \"Topic9\", \"Topic9\", \"Topic9\", \"Topic9\", \"Topic9\", \"Topic9\", \"Topic9\", \"Topic9\", \"Topic9\", \"Topic9\", \"Topic9\", \"Topic9\", \"Topic9\", \"Topic9\", \"Topic9\", \"Topic9\", \"Topic9\", \"Topic9\", \"Topic9\", \"Topic9\", \"Topic9\", \"Topic9\", \"Topic9\", \"Topic9\", \"Topic9\", \"Topic9\", \"Topic9\", \"Topic9\", \"Topic9\", \"Topic9\", \"Topic9\", \"Topic9\", \"Topic9\", \"Topic9\", \"Topic9\", \"Topic9\", \"Topic9\", \"Topic9\", \"Topic9\", \"Topic9\", \"Topic9\", \"Topic9\", \"Topic9\", \"Topic9\", \"Topic9\", \"Topic9\", \"Topic9\", \"Topic9\", \"Topic10\", \"Topic10\", \"Topic10\", \"Topic10\", \"Topic10\", \"Topic10\", \"Topic10\", \"Topic10\", \"Topic10\", \"Topic10\", \"Topic10\", \"Topic10\", \"Topic10\", \"Topic10\", \"Topic10\", \"Topic10\", \"Topic10\", \"Topic10\", \"Topic10\", \"Topic10\", \"Topic10\", \"Topic10\", \"Topic10\", \"Topic10\", \"Topic10\", \"Topic10\", \"Topic10\", \"Topic10\", \"Topic10\", \"Topic10\", \"Topic10\", \"Topic10\", \"Topic10\", \"Topic10\", \"Topic10\", \"Topic10\", \"Topic10\", \"Topic10\", \"Topic10\", \"Topic10\", \"Topic10\", \"Topic10\", \"Topic10\", \"Topic10\", \"Topic10\", \"Topic10\", \"Topic10\", \"Topic10\", \"Topic10\", \"Topic10\", \"Topic10\", \"Topic10\", \"Topic10\"], \"logprob\": [30.0, 29.0, 28.0, 27.0, 26.0, 25.0, 24.0, 23.0, 22.0, 21.0, 20.0, 19.0, 18.0, 17.0, 16.0, 15.0, 14.0, 13.0, 12.0, 11.0, 10.0, 9.0, 8.0, 7.0, 6.0, 5.0, 4.0, 3.0, 2.0, 1.0, -2.746299982070923, -3.0264999866485596, -3.5571000576019287, -4.368599891662598, -5.170300006866455, -5.758500099182129, -5.929200172424316, -6.187699794769287, -6.211599826812744, -6.346799850463867, -6.477799892425537, -6.525700092315674, -6.582499980926514, -6.6940999031066895, -6.75600004196167, -6.784599781036377, -6.9019999504089355, -7.005499839782715, -7.086599826812744, -7.091700077056885, -7.113999843597412, -7.141300201416016, -7.166900157928467, -7.169099807739258, -7.229899883270264, -7.309599876403809, -7.345699787139893, -7.46619987487793, -7.471099853515625, -7.501399993896484, -5.561800003051758, -5.01140022277832, -4.905600070953369, -2.972899913787842, -3.962899923324585, -1.9880000352859497, -2.453000068664551, -5.926000118255615, -5.37470006942749, -4.885300159454346, -3.5434999465942383, -6.6269001960754395, -5.8557000160217285, -4.850900173187256, -4.7906999588012695, -3.2711000442504883, -3.5833001136779785, -3.844099998474121, -4.037899971008301, -5.066800117492676, -5.14870023727417, -4.873300075531006, -5.052999973297119, -5.082300186157227, -4.214600086212158, -3.518199920654297, -4.104100227355957, -4.59630012512207, -5.0441999435424805, -4.561600208282471, -4.6315999031066895, -4.727399826049805, -4.660799980163574, -4.962500095367432, -2.7676000595092773, -3.424799919128418, -3.729099988937378, -4.093100070953369, -4.151899814605713, -4.502900123596191, -4.682300090789795, -4.70419979095459, -4.283999919891357, -4.884799957275391, -5.749300003051758, -5.8394999504089355, -5.861599922180176, -5.8856000900268555, -5.941800117492676, -6.087299823760986, -6.131100177764893, -6.258299827575684, -6.316100120544434, -6.380199909210205, -6.509699821472168, -6.5457000732421875, -6.557799816131592, -4.947400093078613, -6.673699855804443, -6.720200061798096, -6.73799991607666, -6.794000148773193, -6.82859992980957, -6.978499889373779, -4.848400115966797, -5.438199996948242, -4.137199878692627, -4.377200126647949, -4.452300071716309, -4.305600166320801, -2.5620999336242676, -4.384900093078613, -5.660600185394287, -2.9119999408721924, -3.164799928665161, -5.70959997177124, -3.627500057220459, -3.9346001148223877, -2.514899969100952, -4.173900127410889, -3.433799982070923, -3.987299919128418, -4.5625, -4.811699867248535, -4.94890022277832, -3.9983999729156494, -4.28980016708374, -4.498700141906738, -1.8140000104904175, -4.217400074005127, -4.293399810791016, -4.494800090789795, -4.531300067901611, -4.911600112915039, -5.200099945068359, -5.601900100708008, -5.634300231933594, -5.717700004577637, -5.766499996185303, -5.774899959564209, -5.807400226593018, -5.808199882507324, -5.869699954986572, -5.888299942016602, -5.969200134277344, -6.055500030517578, -6.18310022354126, -6.199699878692627, -6.232699871063232, -6.233799934387207, -6.236000061035156, -6.25439977645874, -6.348999977111816, -6.402100086212158, -6.403500080108643, -6.41510009765625, -6.421199798583984, -6.450500011444092, -4.205599784851074, -5.748799800872803, -5.893199920654297, -4.762599945068359, -3.1998000144958496, -4.66540002822876, -5.5472002029418945, -3.9412999153137207, -5.017000198364258, -4.137499809265137, -3.877500057220459, -3.6982998847961426, -5.427199840545654, -3.69950008392334, -3.727799892425537, -4.930300235748291, -3.3977999687194824, -4.194699764251709, -4.462100028991699, -4.886499881744385, -5.416999816894531, -5.210000038146973, -4.351200103759766, -5.007900238037109, -4.906199932098389, -5.0278000831604, -4.483099937438965, -5.213200092315674, -4.576200008392334, -4.961999893188477, -5.099599838256836, -3.93149995803833, -4.132400035858154, -4.23199987411499, -4.486499786376953, -4.414000034332275, -4.620500087738037, -4.78439998626709, -4.786799907684326, -4.808000087738037, -5.117199897766113, -5.292500019073486, -5.575200080871582, -5.598100185394287, -5.600399971008301, -5.637899875640869, -5.759500026702881, -5.900300025939941, -5.940299987792969, -5.9766998291015625, -5.98390007019043, -6.001999855041504, -6.00629997253418, -6.022500038146973, -6.059899806976318, -6.063499927520752, -6.088699817657471, -6.146100044250488, -6.15939998626709, -6.1809000968933105, -6.316100120544434, -3.2751998901367188, -5.0690999031066895, -4.594799995422363, -3.827399969100952, -3.0364999771118164, -3.0264999866485596, -3.9725000858306885, -5.036300182342529, -2.8512001037597656, -3.294100046157837, -4.736999988555908, -5.388599872589111, -3.177500009536743, -4.555200099945068, -4.530600070953369, -3.448499917984009, -4.705999851226807, -4.7829999923706055, -4.940199851989746, -5.0879998207092285, -4.761600017547607, -4.920000076293945, -4.954100131988525, -2.990299940109253, -3.6772000789642334, -3.7304000854492188, -3.7943999767303467, -3.960400104522705, -4.0, -4.012199878692627, -4.367400169372559, -4.5142998695373535, -4.566299915313721, -4.804200172424316, -4.942200183868408, -4.737100124359131, -5.081500053405762, -5.333399772644043, -5.395999908447266, -5.541600227355957, -5.551499843597412, -5.584099769592285, -5.629899978637695, -5.700200080871582, -5.79040002822876, -5.8445000648498535, -5.852200031280518, -6.092299938201904, -6.127299785614014, -6.202300071716309, -6.209000110626221, -6.257999897003174, -6.271100044250488, -3.9144999980926514, -6.097400188446045, -3.737600088119507, -4.280900001525879, -4.35290002822876, -4.868500232696533, -4.047599792480469, -2.643199920654297, -4.213099956512451, -3.7370998859405518, -4.863500118255615, -4.905300140380859, -5.013800144195557, -4.428800106048584, -2.861799955368042, -4.002299785614014, -3.9504001140594482, -4.291100025177002, -4.71120023727417, -4.420100212097168, -4.588799953460693, -4.743199825286865, -4.7758002281188965, -3.8659000396728516, -4.180699825286865, -4.755300045013428, -4.817699909210205, -4.835400104522705, -4.850800037384033, -4.897299766540527, -4.986999988555908, -5.033100128173828, -5.099800109863281, -5.230800151824951, -5.406400203704834, -5.481400012969971, -5.5569000244140625, -5.53980016708374, -5.628300189971924, -5.636000156402588, -5.704999923706055, -5.730400085449219, -5.9232001304626465, -5.996099948883057, -6.116700172424316, -6.143700122833252, -6.1468000411987305, -6.302000045776367, -6.302999973297119, -6.323999881744385, -6.3292999267578125, -6.431000232696533, -6.44890022277832, -4.4928998947143555, -4.639800071716309, -3.5408999919891357, -3.4583001136779785, -4.677999973297119, -2.5179998874664307, -5.0370001792907715, -4.5391998291015625, -5.515600204467773, -4.573500156402588, -5.590700149536133, -4.527400016784668, -3.6844000816345215, -3.7077999114990234, -4.399499893188477, -4.783599853515625, -4.1809000968933105, -4.55049991607666, -5.079500198364258, -4.399499893188477, -3.960900068283081, -4.343900203704834, -4.590199947357178, -4.890399932861328, -5.034299850463867, -2.8420000076293945, -2.9572999477386475, -4.063499927520752, -4.185800075531006, -4.457900047302246, -4.784800052642822, -4.903299808502197, -4.923299789428711, -5.079999923706055, -5.909200191497803, -6.114200115203857, -6.158400058746338, -6.181700229644775, -6.252999782562256, -6.270899772644043, -6.360499858856201, -6.4558000564575195, -6.4882001876831055, -6.513299942016602, -6.570099830627441, -6.57919979095459, -6.639599800109863, -6.664299964904785, -6.678199768066406, -6.752600193023682, -6.845300197601318, -6.863399982452393, -6.874100208282471, -6.898399829864502, -6.902400016784668, -2.5423998832702637, -2.8914999961853027, -2.854300022125244, -2.614500045776367, -3.382200002670288, -3.8675999641418457, -4.002799987792969, -3.188800096511841, -4.005799770355225, -2.5413999557495117, -4.33050012588501, -3.3245999813079834, -6.1321001052856445, -4.994100093841553, -4.683499813079834, -4.912499904632568, -4.26200008392334, -3.3306000232696533, -4.006700038909912, -4.685800075531006, -4.207300186157227, -4.4791998863220215, -5.043499946594238, -3.049999952316284, -4.139699935913086, -4.451900005340576, -4.461999893188477, -4.788099765777588, -4.901899814605713, -4.940400123596191, -5.043799877166748, -5.067299842834473, -5.104700088500977, -5.1168999671936035, -5.142199993133545, -5.160699844360352, -5.231900215148926, -5.297900199890137, -5.3618998527526855, -5.486100196838379, -5.572400093078613, -5.611000061035156, -5.72130012512207, -5.775400161743164, -5.791500091552734, -5.809000015258789, -5.819900035858154, -5.8531999588012695, -5.88670015335083, -5.915200233459473, -5.936100006103516, -6.005499839782715, -6.014500141143799, -3.682800054550171, -3.451900005340576, -4.913000106811523, -2.1187000274658203, -4.505899906158447, -4.901100158691406, -4.3445000648498535, -4.202300071716309, -4.238900184631348, -4.656799793243408, -4.785200119018555, -4.512800216674805, -4.329800128936768, -4.5447998046875, -4.482800006866455, -4.28879976272583, -3.41129994392395, -4.674300193786621, -4.285200119018555, -4.7307000160217285, -4.705399990081787, -4.866000175476074, -4.994500160217285, -2.1142001152038574, -2.5622000694274902, -2.889899969100952, -3.022700071334839, -3.268899917602539, -4.102200031280518, -4.755300045013428, -5.196000099182129, -5.41480016708374, -5.479400157928467, -5.579699993133545, -4.190000057220459, -5.728099822998047, -5.788000106811523, -5.8130998611450195, -5.899400234222412, -5.9145002365112305, -6.056399822235107, -6.245200157165527, -6.294400215148926, -6.3043999671936035, -6.466000080108643, -6.514400005340576, -6.535200119018555, -6.558599948883057, -6.588799953460693, -6.624000072479248, -6.633999824523926, -6.642499923706055, -6.652699947357178, -3.2918999195098877, -4.791800022125244, -5.235000133514404, -4.299499988555908, -4.043099880218506, -3.773200035095215, -5.292300224304199, -3.6138999462127686, -5.861400127410889, -4.866399765014648, -4.022299766540527, -5.183300018310547, -4.510499954223633, -4.800300121307373, -5.598400115966797, -4.072400093078613, -4.419300079345703, -5.125400066375732, -4.457900047302246, -4.947199821472168, -4.811600208282471, -4.63100004196167, -4.963900089263916, -4.9721999168396, -4.997300148010254, -5.151299953460693, -5.150100231170654, -1.9133000373840332, -2.5246999263763428, -3.232100009918213, -3.3914999961853027, -3.575900077819824, -3.6043999195098877, -4.629499912261963, -4.845699787139893, -5.025899887084961, -5.050300121307373, -5.450399875640869, -5.629799842834473, -5.633999824523926, -5.709799766540527, -5.736599922180176, -5.9232001304626465, -5.960400104522705, -5.96150016784668, -5.961699962615967, -6.132900238037109, -6.1834001541137695, -6.290900230407715, -6.319200038909912, -6.455399990081787, -6.4593000411987305, -6.549699783325195, -6.617700099945068, -6.731599807739258, -6.748799800872803, -6.843100070953369, -4.6097002029418945, -3.5281999111175537, -5.235199928283691, -5.265600204467773, -5.843999862670898, -3.956899881362915, -4.027400016784668, -3.5236001014709473, -4.972899913787842, -2.1298999786376953, -3.69350004196167, -4.915599822998047, -4.9517998695373535, -3.812999963760376, -4.083499908447266, -3.5969998836517334, -4.691699981689453, -4.25600004196167, -4.869100093841553, -4.482699871063232, -4.874899864196777, -5.071499824523926, -5.184599876403809], \"loglift\": [30.0, 29.0, 28.0, 27.0, 26.0, 25.0, 24.0, 23.0, 22.0, 21.0, 20.0, 19.0, 18.0, 17.0, 16.0, 15.0, 14.0, 13.0, 12.0, 11.0, 10.0, 9.0, 8.0, 7.0, 6.0, 5.0, 4.0, 3.0, 2.0, 1.0, 1.9586, 1.9585, 1.9582, 1.9573, 1.9553, 1.9521, 1.9513, 1.949, 1.9488, 1.9474, 1.9458, 1.9451, 1.9443, 1.9426, 1.9416, 1.9411, 1.9389, 1.9367, 1.9349, 1.9348, 1.9342, 1.9336, 1.9329, 1.9329, 1.9313, 1.929, 1.9279, 1.924, 1.9238, 1.9228, 1.9164, 1.8974, 1.8877, 1.7852, 1.7717, 1.6562, 1.6211, 1.827, 1.7684, 1.7055, 1.4521, 1.8683, 1.742, 1.5557, 1.5065, 0.9743, 1.0451, 0.9828, 0.9096, 1.2553, 1.2794, 1.072, 1.1659, 1.186, 0.5828, -0.3712, 0.0614, 0.5584, 1.0305, 0.1494, 0.1411, -0.0459, -0.3679, -0.4367, 2.0586, 2.0583, 2.0581, 2.0576, 2.0576, 2.057, 2.0566, 2.0565, 2.0563, 2.056, 2.052, 2.0513, 2.0511, 2.0509, 2.0505, 2.0491, 2.0487, 2.0473, 2.0466, 2.0458, 2.044, 2.0435, 2.0433, 2.0426, 2.0414, 2.0405, 2.0402, 2.0391, 2.0384, 2.0352, 1.9926, 1.9634, 1.8754, 1.8889, 1.8892, 1.8308, 1.6034, 1.7926, 1.9245, 1.3809, 1.405, 1.9157, 1.3199, 1.2201, 0.6321, 1.1886, 0.8117, 1.0083, 1.2131, 1.2775, 1.3733, 0.5274, 0.6255, -0.2717, 2.1952, 2.1936, 2.1935, 2.1931, 2.193, 2.1919, 2.1907, 2.1884, 2.1882, 2.1876, 2.1872, 2.1871, 2.1869, 2.1869, 2.1863, 2.1862, 2.1854, 2.1845, 2.183, 2.1828, 2.1824, 2.1824, 2.1823, 2.1821, 2.1808, 2.18, 2.18, 2.1798, 2.1797, 2.1792, 2.1415, 2.162, 2.1511, 2.0446, 1.4816, 1.7402, 1.9422, 1.2469, 1.6633, 1.2721, 1.0379, 0.8576, 1.7884, 0.6764, 0.5974, 1.4166, -0.2508, 0.5304, 0.6383, 1.1055, 1.7435, 1.4387, 0.2185, 1.1193, 0.8145, 0.9718, -0.2561, 1.3269, -0.2834, 0.5766, 0.5035, 2.1995, 2.1992, 2.1991, 2.1985, 2.1984, 2.1983, 2.1978, 2.1978, 2.1977, 2.1966, 2.1958, 2.1942, 2.1941, 2.1941, 2.1938, 2.1929, 2.1917, 2.1914, 2.191, 2.191, 2.1908, 2.1907, 2.1906, 2.1902, 2.1902, 2.1899, 2.1892, 2.1891, 2.1888, 2.1871, 1.9732, 2.0883, 2.0226, 1.9263, 1.7609, 1.6986, 1.7415, 1.9644, 1.3758, 1.4169, 1.8259, 1.9674, 0.8966, 1.534, 1.1901, -0.3015, 0.5922, 0.6266, 0.9094, 1.1309, -0.5161, -0.2385, -0.6613, 2.2407, 2.2404, 2.2403, 2.2402, 2.24, 2.24, 2.2399, 2.2393, 2.239, 2.2388, 2.2381, 2.2376, 2.2371, 2.237, 2.2358, 2.2354, 2.2345, 2.2344, 2.2342, 2.2338, 2.2333, 2.2325, 2.232, 2.232, 2.2294, 2.229, 2.228, 2.2279, 2.2272, 2.2271, 2.2172, 2.2265, 2.0626, 2.0999, 2.1003, 2.1048, 2.0126, 1.7328, 1.8605, 1.6406, 1.8766, 1.8471, 1.8652, 1.4409, 0.2852, 0.9131, 0.7606, 0.8971, 1.2261, 0.2083, -0.4233, 0.555, 0.8589, 2.3477, 2.3472, 2.3456, 2.3454, 2.3454, 2.3453, 2.3451, 2.3448, 2.3445, 2.3442, 2.3436, 2.3425, 2.342, 2.3414, 2.3413, 2.3408, 2.3408, 2.3402, 2.34, 2.338, 2.3372, 2.3357, 2.3353, 2.3353, 2.333, 2.3329, 2.3326, 2.3325, 2.3308, 2.3304, 2.2866, 2.2695, 2.2004, 2.1447, 2.2173, 2.0379, 2.214, 2.1118, 2.238, 1.9532, 2.2052, 1.6909, 0.9971, 0.5192, 0.936, 1.3574, 0.5442, 0.988, 1.5336, 0.1703, -0.8139, -0.051, -0.0644, 0.9264, 1.1222, 2.4454, 2.4454, 2.4441, 2.4439, 2.4432, 2.4421, 2.4416, 2.4415, 2.4408, 2.4341, 2.4314, 2.4307, 2.4303, 2.4292, 2.4289, 2.4273, 2.4255, 2.4248, 2.4242, 2.423, 2.4228, 2.4214, 2.4207, 2.4204, 2.4184, 2.4158, 2.4153, 2.4149, 2.4142, 2.4141, 2.2303, 2.2088, 1.9726, 1.9113, 1.9534, 1.9953, 1.904, 1.4396, 1.6682, 1.1029, 1.4451, 0.9208, 2.2275, 1.4668, 1.2337, 1.3841, 0.6854, -0.1836, 0.2861, 0.8528, 0.0197, 0.0905, 0.2547, 2.4525, 2.4512, 2.4504, 2.4504, 2.4493, 2.4488, 2.4486, 2.4481, 2.448, 2.4478, 2.4477, 2.4476, 2.4475, 2.4471, 2.4466, 2.4462, 2.4453, 2.4446, 2.4442, 2.4432, 2.4426, 2.4425, 2.4423, 2.4421, 2.4418, 2.4414, 2.441, 2.4408, 2.4399, 2.4398, 2.4395, 2.3722, 2.4143, 2.2065, 2.3451, 2.3392, 2.0745, 2.0131, 2.0032, 1.9853, 1.9403, 1.6086, 1.4509, 1.4924, 1.334, 1.0094, -0.2643, 1.3177, -0.0581, 1.023, 0.6723, 1.1333, 1.0513, 2.6152, 2.615, 2.6149, 2.6148, 2.6145, 2.6132, 2.611, 2.6085, 2.6068, 2.6062, 2.6053, 2.6046, 2.6036, 2.6029, 2.6026, 2.6014, 2.6012, 2.599, 2.5956, 2.5946, 2.5944, 2.5908, 2.5896, 2.589, 2.5884, 2.5876, 2.5866, 2.5863, 2.5861, 2.5858, 2.4792, 2.5054, 2.5064, 2.3512, 2.3015, 2.1641, 2.3934, 2.0208, 2.4472, 2.1393, 1.7885, 2.0967, 1.7777, 1.6053, 2.2296, 0.3035, 0.4961, 1.5232, 0.3395, 0.8335, 0.4368, -0.3856, 0.4457, 0.4055, 0.3009, 1.1459, 0.0381, 2.7831, 2.7828, 2.7822, 2.782, 2.7817, 2.7817, 2.7786, 2.7775, 2.7763, 2.7762, 2.7726, 2.7705, 2.7705, 2.7695, 2.7691, 2.7662, 2.7655, 2.7655, 2.7655, 2.7622, 2.7611, 2.7586, 2.7579, 2.7542, 2.7541, 2.7514, 2.7492, 2.7452, 2.7445, 2.7407, 2.592, 2.4712, 2.6007, 2.4989, 2.5599, 1.9883, 2.008, 1.8389, 2.2389, 1.0171, 1.4947, 2.0924, 2.078, 0.9452, 1.0712, 0.5685, 1.5766, 0.1199, 1.1911, 0.087, -0.164, -0.7786, 0.822]}, \"token.table\": {\"Topic\": [9, 1, 4, 6, 7, 8, 9, 10, 4, 3, 8, 1, 4, 7, 9, 8, 8, 9, 7, 8, 6, 5, 9, 9, 1, 4, 1, 4, 5, 8, 9, 10, 3, 1, 2, 2, 3, 5, 6, 7, 8, 9, 3, 1, 4, 6, 10, 7, 1, 2, 3, 4, 5, 6, 7, 8, 9, 10, 2, 3, 7, 2, 4, 10, 3, 5, 7, 1, 4, 6, 9, 1, 6, 4, 3, 5, 5, 6, 4, 6, 4, 6, 5, 6, 9, 8, 10, 7, 1, 9, 8, 8, 8, 9, 2, 3, 5, 7, 8, 2, 3, 1, 1, 8, 2, 9, 9, 4, 4, 9, 9, 1, 1, 2, 5, 8, 9, 4, 3, 3, 5, 6, 10, 4, 1, 3, 8, 2, 4, 1, 2, 3, 6, 8, 9, 2, 5, 10, 1, 1, 2, 3, 5, 6, 7, 8, 9, 5, 5, 4, 5, 7, 10, 7, 8, 2, 5, 10, 3, 5, 6, 1, 5, 2, 9, 4, 4, 5, 2, 3, 4, 5, 8, 9, 1, 4, 5, 10, 1, 2, 3, 4, 6, 7, 8, 10, 1, 8, 4, 9, 1, 1, 2, 3, 4, 9, 2, 3, 8, 7, 3, 8, 5, 1, 2, 3, 5, 6, 10, 1, 2, 3, 4, 5, 6, 8, 9, 1, 2, 10, 1, 10, 6, 5, 1, 2, 6, 8, 9, 3, 8, 10, 1, 7, 1, 2, 7, 10, 3, 4, 9, 2, 1, 4, 9, 1, 2, 2, 9, 9, 7, 5, 9, 5, 3, 4, 5, 8, 6, 8, 8, 2, 5, 9, 3, 5, 9, 10, 1, 2, 1, 2, 3, 5, 6, 7, 10, 2, 4, 10, 8, 2, 3, 5, 6, 7, 2, 5, 9, 8, 1, 3, 4, 6, 7, 8, 3, 9, 1, 4, 5, 6, 8, 6, 5, 3, 7, 4, 10, 4, 10, 5, 4, 6, 2, 1, 2, 3, 6, 7, 6, 1, 2, 3, 5, 6, 7, 9, 3, 4, 6, 7, 10, 1, 2, 3, 4, 5, 6, 10, 8, 6, 6, 8, 3, 1, 2, 3, 6, 8, 8, 1, 3, 5, 6, 10, 10, 2, 4, 8, 4, 9, 4, 10, 2, 5, 8, 5, 7, 2, 3, 2, 6, 7, 1, 1, 1, 2, 7, 1, 2, 8, 6, 10, 1, 3, 4, 5, 6, 7, 8, 2, 3, 5, 3, 1, 2, 6, 7, 6, 8, 8, 1, 3, 5, 8, 9, 8, 3, 4, 5, 6, 8, 5, 1, 2, 3, 9, 10, 3, 8, 5, 1, 7, 1, 1, 7, 7, 5, 1, 2, 3, 4, 5, 6, 7, 8, 10, 3, 5, 6, 8, 9, 10, 10, 3, 4, 2, 3, 5, 7, 9, 10, 6, 10, 7, 10, 9, 3, 8, 3, 5, 9, 7, 10, 3, 1, 2, 3, 6, 7, 3, 5, 2, 10, 2, 6, 2, 4, 3, 8, 9, 10, 4, 2, 3, 4, 6, 8, 1, 7, 4, 3, 6, 9, 10, 2, 7, 1, 2, 3, 4, 5, 6, 7, 8, 9, 1, 2, 3, 5, 6, 9, 2, 3, 5, 8, 2, 5, 3, 6, 5, 1, 4, 4, 6, 3, 8, 9, 7, 10, 7, 1, 4, 5, 6, 8, 9, 1, 3, 9, 10, 10, 1, 1, 3, 4, 8, 4, 3, 5, 8, 9, 10, 1, 3, 5, 6, 8, 9, 4, 1, 2, 4, 9, 9, 8, 10, 9, 7, 1, 9, 4, 8, 4, 8, 4, 7, 6, 9, 2, 3, 4, 5, 1, 8, 5, 7, 1, 2, 6, 7, 9, 10, 9, 4, 6, 1, 5, 5, 3, 6, 7, 8, 6, 3, 9, 6, 2, 6, 8, 6, 7, 2, 4, 1, 4, 1, 2, 1, 6, 2, 3, 4, 6, 8, 9, 5, 9, 6, 6, 6, 6, 8, 2, 7, 7, 10, 3, 8, 2, 1, 9, 1, 2, 3, 4, 5, 6, 7, 9, 10, 1, 2, 10, 6, 5, 10, 3, 1, 6, 4, 5, 6, 5, 5, 6, 3, 4, 1, 3, 5, 6, 7, 8, 7, 1, 5, 3, 8, 3, 4, 9, 7, 2, 8, 1, 3, 4, 7, 5, 6, 9, 8, 9, 10, 10, 1, 2, 3, 4, 5, 6, 7, 8, 9, 10, 1, 2, 3, 5, 6, 8, 9, 10, 9, 8, 2, 3, 5, 6, 2, 4, 6, 4, 3, 9, 4, 4, 2, 2, 8, 4, 6, 7, 8, 2, 5, 3, 9, 6, 8, 7, 1, 2, 3, 4, 5, 6, 7, 9, 2, 10, 6, 9, 6, 6, 9, 2, 4, 5, 6, 7, 8, 1, 2, 5, 6, 7, 8, 9, 3, 4, 5, 6, 8, 9, 5, 1, 2, 3, 4, 6, 7, 8, 10, 1, 2, 3, 4, 6, 7, 8, 9, 6, 8, 3, 6, 1, 2, 4, 6, 7, 9, 5, 6, 8, 3, 7, 1, 3, 8, 2, 2, 2, 10, 4, 10, 1, 2, 3, 5, 6, 7, 8, 9, 10, 8, 9, 6, 1, 2, 4, 5, 8, 10, 3, 1, 3, 4, 5, 6, 4, 5, 8, 3, 1, 8, 1, 4, 9, 2, 8, 9, 3, 4, 5, 8, 9, 2, 3, 4, 6, 8, 1, 3, 4, 5, 6, 8, 9, 2, 1, 3, 6, 7, 8, 3, 8, 9, 1, 10, 1, 10, 5, 8, 1, 2, 3, 5, 6, 8, 10, 1, 4, 5, 7, 3, 1, 2, 5, 8], \"Freq\": [0.9932872132318434, 0.11134123166678571, 0.06502327929340286, 0.1603313736001714, 0.4596166043204914, 0.09085444504009714, 0.11312269137345428, 0.9781360382862245, 0.9988711919268684, 0.9810822673532832, 0.9952499012366434, 0.2524562369783371, 0.6443009396011011, 0.0003707140043734759, 0.10268777921145282, 0.9908582881244206, 0.1266214984347183, 0.8726086209958493, 0.982273479682573, 0.9821850860244908, 0.9863208555920342, 0.8719768749993921, 0.12410157771526929, 0.9967075892412777, 0.9126921686431949, 0.07481083349534384, 0.6361695307926202, 0.07640678437718153, 0.009966102310067155, 0.04816949449865792, 0.2292203531315446, 0.9950706574798082, 0.9925936552225779, 0.9859702935682556, 0.9986029970152529, 0.2739152666524057, 0.00996055515099657, 0.10458582908546399, 0.10458582908546399, 0.34529924523454775, 0.02324129535232533, 0.1361275870636198, 0.9911788147116665, 0.46153103240787346, 0.10812090619345287, 0.13071333435327884, 0.29854280068341466, 0.9596756931474062, 0.09728437941857303, 0.24004404665606935, 0.0866094292263375, 0.08191245114175388, 0.14140750687981316, 0.042272802761252656, 0.0720914969648972, 0.0660423585226304, 0.0013521603576831657, 0.1709415357449981, 0.1581354627738203, 0.6658335274687169, 0.17061984141385872, 0.24190180619637117, 0.25918050663896913, 0.4941708326583011, 0.13007816445520268, 0.8678349180817253, 0.9937930008287861, 0.4530922160176286, 0.34250699719298705, 0.13976742934781086, 0.06297213849736533, 0.9876513191617645, 0.9930514182662029, 0.9882879516138068, 0.9805156237715777, 0.9989653608560148, 0.9958051834729688, 0.9992383577690638, 0.7888065592259349, 0.2081106666893956, 0.9802585847321894, 0.9806575740743158, 0.9945300813249517, 0.9945819478806333, 0.9822575023245538, 0.41459342858333115, 0.5804308000166637, 0.9685742329831584, 0.9891250627552619, 0.9873729249391313, 0.9835609691138996, 0.9920944251384625, 0.26822643513818867, 0.7297849111876692, 0.002151772921686552, 0.20549431402106572, 0.006455318765059656, 0.6369247848192193, 0.14847233159637208, 0.9830627624066033, 0.01328463192441356, 0.9724651434923199, 0.31331665750052234, 0.6847938921418601, 0.9932336741696864, 0.9908715343122971, 0.9723296555244498, 0.9961783371984896, 0.9948576736527283, 0.9752435914737156, 0.9577316590083644, 0.9671174134261151, 0.0051382804363459406, 0.11646768989050799, 0.25091936130822673, 0.07536144639974046, 0.5515087668344643, 0.9985444389517303, 0.9976692877833045, 0.0030209802768199354, 0.11781823079597749, 0.8760842802777813, 0.9741990642595216, 0.9882522681908678, 0.9911794998523512, 0.7770162026981352, 0.2188778035769395, 0.8650345465653954, 0.13163569186864713, 0.5074605568694297, 0.18177691589352704, 0.12307812013624227, 0.015148076324460587, 0.14011970600126042, 0.030296152648921174, 0.7662970005626929, 0.14294386356650232, 0.08841888468031071, 0.9982923444604398, 0.14208308842843106, 0.03694160299139208, 0.16339555169269573, 0.10229982366847037, 0.3708368607982051, 0.04404575741281363, 0.08240819128849002, 0.05825406625565674, 0.9895289641966237, 0.9956974390053505, 0.9881302003247708, 0.9918251376607526, 0.9974154551542376, 0.9980728667094226, 0.9965715733801906, 0.9865665149688141, 0.9971537654787215, 0.0017341804617021243, 0.9798431243663648, 0.996711105535215, 0.9982751928152865, 0.9902082301801536, 0.9826085524313344, 0.9832658091286299, 0.9996760217697062, 0.9834322384543388, 0.998808508961822, 0.9952509618495603, 0.987973696744993, 0.10727976125148637, 0.19087438040848875, 0.04876352784158472, 0.14907707082998756, 0.4291190450059455, 0.07384191358868543, 0.20286830174803014, 0.28401562244724216, 0.010143415087401507, 0.500408477645141, 0.12368180370890085, 0.08401028176453643, 0.1983576097218221, 0.07467580601292126, 0.25669808316941684, 0.20302484759762968, 0.059118346426896, 0.0007778729793012631, 0.956531937570858, 0.9948097648557889, 0.9897788082309564, 0.9656781657502874, 0.9470455827773969, 0.07658048505026718, 0.20444254491098116, 0.397261266198261, 0.20717756223420497, 0.11418697324459483, 0.03812220251297837, 0.9530550628244592, 0.9925354442968433, 0.9825529287549595, 0.9981133704200351, 0.9970573777643618, 0.9964697553450744, 0.24640205332061407, 0.4323958613110131, 0.04239175110892285, 0.03497319466486135, 0.06305772977452274, 0.18069483910178366, 0.00034485684637224073, 0.001379427385488963, 0.18932640865836017, 0.6052237653832825, 0.030347402480757187, 0.16449671571955884, 0.007931707466561537, 0.0006897136927444815, 0.41239809935433297, 0.13551892216742953, 0.4521191627482347, 0.9753942994523664, 0.9865606166410154, 0.9890518254400771, 0.9987794671619624, 0.982450849502215, 0.19588967670060897, 0.2419813653360464, 0.12839827548443278, 0.43293264682571564, 0.9673810581369373, 0.02501847564147252, 0.965842352936601, 0.9898863126029686, 0.9912020384770384, 0.9993345755178038, 0.9729352518323763, 0.9779226928552812, 0.9847558636388957, 0.9917862134851562, 0.14897190967189708, 0.8441741548074168, 0.9912761420160988, 0.7133002264966253, 0.27139940539168117, 0.015107720379656209, 0.49558596764413543, 0.5041011904558903, 0.9765087881305557, 0.9995741311748563, 0.9761301053080937, 0.9747166107218, 0.3627691332875094, 0.6362947417726603, 0.9889082192816236, 0.002889986885403709, 0.005779973770807418, 0.09247958033291868, 0.8987859213605536, 0.03257425042589224, 0.963267119737099, 0.984748487458066, 0.15354882147553994, 0.16122626254931693, 0.6832922555661527, 0.3873994651048138, 0.26082340224878553, 0.0761648170432378, 0.27561800699819144, 0.20224165642251782, 0.7962381298313114, 0.09097798371117713, 0.21614334639456678, 0.001130161288337604, 0.015822258036726457, 0.08956528210075512, 0.5859886280030477, 0.9637807997405612, 0.8438446507823778, 0.15453122205685518, 0.9809250643024328, 0.9940018766861285, 0.9979623816748875, 0.1713554798610728, 0.6827652453379179, 0.14346040174415398, 0.9996728441560073, 0.9755727252726922, 0.9985287008359691, 0.9840109597152579, 0.9919597631835682, 0.1346885179426251, 0.48989647212464615, 0.08715139396287507, 0.25881323055641686, 0.007262616163572921, 0.022117967407244806, 0.6349886370056659, 0.36470192854261274, 0.3949108379245339, 0.09307662846706186, 0.11169195416047423, 0.2659332241916053, 0.13296661209580266, 0.9888328036081134, 0.9913140346045649, 0.21078241727057748, 0.7889284760698757, 0.9971416495154837, 0.9995805786524032, 0.9984796640807438, 0.9984735628064995, 0.9991771238717969, 0.9946100803683143, 0.9955621939702896, 0.9891388885213864, 0.3552288126675059, 0.16651350593789338, 0.29355714380161946, 0.09004063654419421, 0.09250750329882966, 0.9957505268632555, 0.11017267932476098, 0.001124211013517969, 0.08431582601384768, 0.0472168625677547, 0.15514111986547974, 0.5812170939887901, 0.021360009256841412, 0.39326289585508173, 0.05673942278506154, 0.17217480017535916, 0.3756541094735109, 0.9635939312621207, 0.28347574000215203, 0.10192386157380748, 0.05520875835247905, 0.2749820848710014, 0.01592560337090742, 0.2017243093648273, 0.06582582726641732, 0.9921212795715807, 0.9845876312704108, 0.9948202562238769, 0.9888216545117482, 0.9923888291109478, 0.19591681569979785, 0.07062117775225271, 0.2027511232242094, 0.44195188657861373, 0.08884599781735018, 0.9836146773235201, 0.07856308338663201, 0.0026187694462210674, 0.6730237476788142, 0.24354555849855924, 0.9932624987723384, 0.9837290249428106, 0.9798758617099764, 0.9948525385434597, 0.9934679786856353, 0.3744336062104965, 0.6206827346192014, 0.996217390749141, 0.9819103202569514, 0.9993712641333782, 0.8686382273321414, 0.13002484899774258, 0.9942018594714611, 0.9952263861275924, 0.9861072521596482, 0.9791709278925669, 0.14540108986363934, 0.24318173544879415, 0.6108115652786945, 0.9520409700874503, 0.9616788875154494, 0.35017707187394287, 0.4776708151392407, 0.1718581201447764, 0.8760857124993915, 0.08547177682920894, 0.028490592276402976, 0.9920686862290614, 0.9965437020865807, 0.023332724389179656, 0.25106011442757314, 0.3639905004712027, 0.18759510408900446, 0.11946354887259984, 0.0475987577539265, 0.006533162828970304, 0.9879781455443725, 0.9815075747549485, 0.9814962877595986, 0.9882001073899338, 0.05817463349424974, 0.428914670677943, 0.144943578367029, 0.3677820049721212, 0.9925595460573247, 0.9908832075556667, 0.9981825635112865, 0.9996716042283407, 0.20228812837673504, 0.002311864324305543, 0.7814101416152737, 0.01387118594583326, 0.9929598459792519, 0.6380198800718945, 0.14572058989296355, 0.17328935014298366, 0.019691971607157237, 0.02756876025002013, 0.9970452403458243, 0.11023870002788552, 0.418776600105932, 0.0013046000003300061, 0.08023290002029539, 0.38877080009834186, 0.9919429655054903, 0.9873864600883767, 0.9981934073159848, 0.7389251284725821, 0.2610517753954601, 0.9609231008010641, 0.3768565134445359, 0.6227487066140204, 0.9847034869837893, 0.9963437542926445, 0.1471931398614994, 0.011544559989137207, 0.17461146983570025, 0.041849029960622376, 0.044735169957906676, 0.2929432097243566, 0.10101489990495056, 0.07792577992667615, 0.10678717989951916, 0.19621221408698622, 0.14567270439791402, 0.02378329867721045, 0.36665918794032776, 0.16846503229690735, 0.0990970778217102, 0.981070347992074, 0.9480835803269247, 0.05063429802850979, 0.2103829909336943, 0.1582978815277797, 0.1920000111433715, 0.0010212766550179336, 0.43710640834767556, 0.9988800284702761, 0.2449652236530554, 0.7493053899975812, 0.19117361183832643, 0.8056602213186613, 0.9759666393250559, 0.9997984510381199, 0.9956328308176575, 0.16269245486797326, 0.8367040536067196, 0.9926111805851597, 0.982542418798631, 0.9811021449874813, 0.9932822919581211, 0.000291176184917319, 0.004076466588842466, 0.2623497426105044, 0.7325992812519746, 0.000582352369834638, 0.9862090677162264, 0.9988626589266159, 0.16250980943872223, 0.8357647342562857, 0.9355575572250305, 0.0629427102720204, 0.20591409989545528, 0.79013549959884, 0.4697590976097858, 0.11802992402255924, 0.33520498422406825, 0.07553915137443791, 0.9987452810603421, 0.087145074615805, 0.19746703077836664, 0.631338253333651, 0.07694724673523207, 0.006489526833091861, 0.9882400210595871, 0.9860375687632233, 0.9920315836023185, 0.9852369375700559, 0.9934110795464708, 0.9790389187752329, 0.9987748680244671, 0.9928948780002423, 0.9913535711557138, 0.09848164221579822, 0.05872197299823993, 0.00917530828097499, 0.20002172052525477, 0.1853412272756948, 0.0018350616561949979, 0.11193876102789486, 0.23611126643042307, 0.09909332943452988, 0.061734097445560736, 0.2385939441814915, 0.31409307686829213, 0.26487264782385855, 0.0004171222800375725, 0.1201312166508209, 0.9943614017474909, 0.022522400160827138, 0.9755014569658254, 0.9894942731906475, 0.8731850261661489, 0.12043931395395158, 0.18419003671651352, 0.8147505227730463, 0.9937336712075884, 0.8290001054272362, 0.1703424874165554, 0.9870524192842707, 0.9966768425518103, 0.19528266190612778, 0.20859738885427284, 0.59472447035048, 0.9982483744915844, 0.9995527166109438, 0.9523036791874566, 0.15240596902588688, 0.2766360446184165, 0.07940479058491585, 0.005122889715155861, 0.38293600620790064, 0.10245779430311723, 0.6689291933570194, 0.13341524078034736, 0.0870905043982823, 0.10932637786167353, 0.9939016645173075, 0.9796354735414894, 0.7753444411657573, 0.22280012677176936, 0.7601163575348083, 0.23922443739674173, 0.9911607923752961, 0.21888780147281767, 0.6012118280453392, 0.010944390073640883, 0.09898592799937421, 0.06980088780299852, 0.9931327564722474, 0.45912121092441976, 0.12569097789565864, 0.0017457080263285924, 0.21123067118575967, 0.2025021310541167, 0.9951375649861764, 0.6024650255958193, 0.34981840195886277, 0.028021629097479964, 0.019434355664381266, 0.9994108709173091, 0.2676002217774828, 0.731276182092384, 0.9994022596610369, 0.9845767103373203, 0.9951933418609278, 0.9930403198836965, 0.895195117080255, 0.10208365370213435, 0.8373957807413456, 0.16244562959736486, 0.18290191188269497, 0.8099941811947919, 0.19311007933431004, 0.7990761903488691, 0.9940772041126388, 0.996635101413115, 0.9948244173585333, 0.9936458737753082, 0.9577106916994643, 0.03787556407850989, 0.999264401350934, 0.9945278676797725, 0.16238040552921412, 0.018444099514454165, 0.013019364363144117, 0.8061156434846732, 0.9995109653790446, 0.9946080818712755, 0.9705811471826423, 0.9926016060920204, 0.976514014768379, 0.9928326490329449, 0.9959697112803885, 0.9895912716854279, 0.9836106003944228, 0.14462408627474022, 0.21536412847434142, 0.6382323807341796, 0.9980560944505794, 0.008195241048020272, 0.9888924197944462, 0.9739679164503474, 0.9835344112845116, 0.9978784620495484, 0.9955828721479133, 0.993595990130125, 0.9705277448681503, 0.9952403142074836, 0.9975096771524251, 0.8049135114027045, 0.18903271858699877, 0.9848212934922324, 0.9993322157983815, 0.9887835403008405, 0.9896979379708627, 0.02716545361598032, 0.10239286362946429, 0.1943374758681669, 0.672867389565051, 0.0993347191165149, 0.894012472048634, 0.9965324686542669, 0.9756882118687423, 0.9934296397503558, 0.9883711547790225, 0.9959395524903202, 0.9389954883925093, 0.05919169267803784, 0.9958973732585716, 0.9769942446665957, 0.9715171183223614, 0.9914897063546806, 0.012551126707485047, 0.9859607313546588, 0.9926878170535846, 0.9964642011406569, 0.989929811331242, 0.40102689028035116, 0.049463113711393815, 0.017844287857907898, 0.017531230176190214, 0.13085811095799124, 0.0037566921806121887, 0.36565137224625305, 0.010017845814965837, 0.004069749862329871, 0.3042620861347976, 0.2339494191708738, 0.46022836558204683, 0.9880624304107366, 0.7954537532839908, 0.20312245759311132, 0.9891155037816991, 0.13720179076796962, 0.8622751433681424, 0.686834605283609, 0.13433358210594246, 0.17766699568850453, 0.9982531851807688, 0.6932222140917497, 0.3026380561519952, 0.9804767346075537, 0.9896988200002182, 0.044410765128655064, 0.21122193170945702, 0.44952359825345983, 0.14514737871316533, 0.14948013628669266, 0.9921907595194203, 0.9654413746309531, 0.9994813939941888, 0.9973151462179081, 0.8602659691025396, 0.13830642590072983, 0.989009634458277, 0.22945066872173317, 0.7687780137583843, 0.9921043776573745, 0.9071893492262861, 0.0852056294853418, 0.9880279591724069, 0.9952640898303627, 0.9919095029001784, 0.98965918179536, 0.07352721457440052, 0.9221538161206064, 0.9810003372943957, 0.9978186244712434, 0.9855974866353374, 0.9713703289474657, 0.9776221598754027, 0.04109655104191742, 0.03390465460958187, 0.0462336199221571, 0.014383792864671098, 0.042123964817965355, 0.24144223737126486, 0.1500024113029986, 0.3267175807832435, 0.060617412786828195, 0.044178792370061226, 0.10930291057758747, 0.35026614525999616, 0.22108997821375645, 0.03602027734943223, 0.060861847935247564, 0.07204055469886446, 0.009936628234326133, 0.14035487380985662, 0.9625112704695998, 0.9967215143088266, 0.3118810381615771, 0.5872135171635943, 0.07553368892975694, 0.02192913549573589, 0.8322780373679117, 0.15495867362405563, 0.01124700050497178, 0.9929764657016376, 0.09856291858979921, 0.8941064757788928, 0.9940450515405266, 0.9988358816969897, 0.9813181348305049, 0.10237380793035009, 0.891505244060132, 0.20822810454193466, 0.7879540774143664, 0.9904689021258897, 0.9994584444716332, 0.9901581814082044, 0.9903677000811452, 0.9980336580832696, 0.9875915860316635, 0.8624213807743544, 0.12638934028589677, 0.9920578765107613, 0.2283237660576428, 0.03180629576922387, 0.05225320019229636, 0.11700173086535924, 0.12381736567305007, 0.1249533048076652, 0.29761605326916624, 0.024990660961533042, 0.9828294270483915, 0.9581815284262237, 0.8752490098480755, 0.12072400135835525, 0.9892753703085116, 0.8980118889001576, 0.09977909876668417, 0.10438547233916715, 0.21491126658063825, 0.058333058071887524, 0.5173221202691078, 0.07214878235207141, 0.03223668998709574, 0.08655264702802815, 0.15243600521354211, 0.15114417466088498, 0.16922980239808488, 0.10076278310725666, 0.24673963555751308, 0.09301179979131383, 0.33666288569771186, 0.1615981851349017, 0.14935589838225763, 0.006121143376322034, 0.32074791291927457, 0.025708802180552544, 0.9924669737666065, 0.09758565657064164, 0.5076244704179249, 0.08393261746328123, 0.05707417987503124, 0.09064722686034372, 0.11526746131623955, 0.019248546938245827, 0.02842517978089791, 0.04715327594234237, 0.09724053349887495, 0.08613331738801207, 0.43821111109083516, 0.1605307083192634, 0.08843858865630437, 0.08110363462082888, 0.0012574206917957966, 0.9950846145479461, 0.9923536321546818, 0.9755531107988346, 0.9958104018833545, 0.37355145563287023, 0.28731443387533906, 0.06617197214067987, 0.005763365315478569, 0.21751367616565415, 0.04973570809283358, 0.686557712259469, 0.2615457951464644, 0.0475537809357208, 0.990773656551119, 0.9983302002770738, 0.9775387732708319, 0.9970034542344554, 0.9960449716315021, 0.9972004584787563, 0.9980860659765165, 0.9980952532161461, 0.9818822407500893, 0.987841345933852, 0.9826895990219985, 0.043693514224034426, 0.5198937739765177, 0.1384612038585956, 0.0008856793423790763, 0.11307172937706207, 0.09476768963456116, 0.011513831450927992, 0.010037699213629531, 0.0673116300208098, 0.995851107526938, 0.9993954227883797, 0.981698193733873, 0.16388573523629207, 0.09214322458306048, 0.4566359801293366, 0.22746796031759212, 0.007480261774270592, 0.052361832419894144, 0.9875298732002514, 0.2943539441043944, 0.41929554627820215, 0.13341221927033706, 0.06776493677223469, 0.0868238252394257, 0.27857463991468145, 0.07653149448205535, 0.644395183538906, 0.9897213854909714, 0.9400121094558413, 0.0581766452106221, 0.9301610837489358, 0.024549706022699184, 0.043643921818131884, 0.8437643681704061, 0.15458278500831868, 0.996740117725264, 0.07857020625738392, 0.7967600916026563, 0.00814802138965463, 0.0029100076391623676, 0.11290829639949986, 0.45732585625583616, 0.0094433067663447, 0.5139856968539044, 0.0026980876475270568, 0.01618852588516234, 0.020532711683896577, 0.016558638454755303, 0.13445614425261307, 0.5484221056214956, 0.0013246910763804241, 0.16823576670031387, 0.10994935933957521, 0.985870820505713, 0.17658125338569478, 0.3405495601009828, 0.21021577784011283, 0.196201392650772, 0.07567768002244063, 0.07554992777567003, 0.9221230910701643, 0.002069861034949864, 0.17236699007917358, 0.8248991668074735, 0.8404787808866446, 0.1589709653415791, 0.37054702294402, 0.6261775640889452, 0.1499587474696417, 0.6341225352921247, 0.002561713163081921, 0.06956036512060908, 0.03409049055485941, 0.0003941097173972186, 0.10916839171902955, 0.8282151901654792, 0.04257180884028164, 0.13158559096087052, 0.9995564096581102, 0.9921158680015797, 0.9883753679029331, 0.25238087033273293, 0.14785949979089402, 0.5990859043251741], \"Term\": [\"ability\", \"able\", \"able\", \"able\", \"able\", \"able\", \"able\", \"acc\", \"access\", \"accident\", \"accidentally\", \"account\", \"account\", \"account\", \"account\", \"active\", \"add\", \"add\", \"addict\", \"advertise\", \"advice\", \"age\", \"age\", \"album\", \"alert\", \"alert\", \"allow\", \"allow\", \"allow\", \"allow\", \"allow\", \"alot\", \"alright\", \"alternative\", \"android\", \"annoy\", \"annoy\", \"annoy\", \"annoy\", \"annoy\", \"annoy\", \"annoy\", \"anybody\", \"anymore\", \"anymore\", \"anymore\", \"anymore\", \"anytime\", \"app\", \"app\", \"app\", \"app\", \"app\", \"app\", \"app\", \"app\", \"app\", \"app\", \"appear\", \"appear\", \"appear\", \"application\", \"application\", \"application\", \"area\", \"area\", \"asap\", \"ask\", \"ask\", \"ask\", \"ask\", \"assume\", \"attempt\", \"auto\", \"avail\", \"away\", \"awesome\", \"bad\", \"ban\", \"ban\", \"bank\", \"barely\", \"battery\", \"begin\", \"beware\", \"bite\", \"bite\", \"bla\", \"blah\", \"book\", \"boost\", \"bore\", \"bot\", \"bot\", \"bug\", \"bug\", \"bug\", \"bug\", \"bug\", \"buggy\", \"buggy\", \"bullshit\", \"button\", \"button\", \"cache\", \"cam\", \"camera\", \"cancel\", \"card\", \"careful\", \"catfish\", \"cell\", \"change\", \"change\", \"change\", \"change\", \"change\", \"charge\", \"chat\", \"check\", \"check\", \"check\", \"chick\", \"choice\", \"circle\", \"city\", \"city\", \"clear\", \"clear\", \"click\", \"click\", \"click\", \"click\", \"click\", \"click\", \"close\", \"close\", \"close\", \"code\", \"come\", \"come\", \"come\", \"come\", \"come\", \"come\", \"come\", \"come\", \"comment\", \"common\", \"company\", \"complaint\", \"concept\", \"connect\", \"connection\", \"consider\", \"constantly\", \"constantly\", \"continuously\", \"conversation\", \"cool\", \"correct\", \"correctly\", \"country\", \"crash\", \"crazy\", \"create\", \"credit\", \"crop\", \"date\", \"date\", \"date\", \"date\", \"date\", \"date\", \"datum\", \"datum\", \"datum\", \"datum\", \"day\", \"day\", \"day\", \"day\", \"day\", \"day\", \"day\", \"day\", \"deactivate\", \"decent\", \"deduct\", \"default\", \"defeat\", \"delete\", \"delete\", \"delete\", \"delete\", \"delete\", \"design\", \"design\", \"dev\", \"direct\", \"disappear\", \"dislike\", \"distance\", \"doesn\", \"doesn\", \"doesn\", \"doesn\", \"doesn\", \"doesn\", \"don\", \"don\", \"don\", \"don\", \"don\", \"don\", \"don\", \"don\", \"download\", \"download\", \"download\", \"drive\", \"droid\", \"dumb\", \"easy\", \"edge\", \"edit\", \"edit\", \"edit\", \"edit\", \"enable\", \"enable\", \"endless\", \"enter\", \"erase\", \"error\", \"eventually\", \"exact\", \"excellent\", \"excite\", \"exist\", \"exist\", \"extremely\", \"facebook\", \"facebook\", \"facebook\", \"fail\", \"fail\", \"failure\", \"fake\", \"fan\", \"fantastic\", \"far\", \"far\", \"fast\", \"feature\", \"feature\", \"feature\", \"feature\", \"feel\", \"feel\", \"female\", \"figure\", \"figure\", \"figure\", \"find\", \"find\", \"find\", \"find\", \"fine\", \"fine\", \"fix\", \"fix\", \"fix\", \"fix\", \"fix\", \"fix\", \"flash\", \"force\", \"force\", \"forward\", \"free\", \"freeze\", \"friend\", \"friend\", \"friend\", \"fun\", \"functionality\", \"galaxy\", \"gallery\", \"game\", \"get\", \"get\", \"get\", \"get\", \"get\", \"get\", \"girl\", \"girl\", \"give\", \"give\", \"give\", \"give\", \"give\", \"glitch\", \"glitches\", \"go\", \"go\", \"gold\", \"good\", \"google\", \"gps\", \"great\", \"haha\", \"half\", \"hang\", \"happen\", \"happen\", \"happen\", \"happen\", \"happen\", \"hasn\", \"have\", \"have\", \"have\", \"have\", \"have\", \"have\", \"have\", \"haven\", \"haven\", \"haven\", \"haven\", \"height\", \"help\", \"help\", \"help\", \"help\", \"help\", \"help\", \"help\", \"high\", \"highly\", \"hit\", \"home\", \"hot\", \"hour\", \"hour\", \"hour\", \"hour\", \"hour\", \"hundred\", \"idea\", \"idea\", \"idea\", \"idea\", \"idk\", \"ill\", \"important\", \"impossible\", \"improve\", \"info\", \"info\", \"information\", \"initial\", \"install\", \"interest\", \"interest\", \"interface\", \"internet\", \"ios\", \"irritate\", \"issue\", \"issue\", \"issue\", \"joy\", \"junk\", \"keep\", \"keep\", \"keep\", \"kick\", \"kick\", \"kick\", \"kill\", \"kinda\", \"know\", \"know\", \"know\", \"know\", \"know\", \"know\", \"know\", \"lack\", \"lady\", \"lag\", \"lame\", \"late\", \"late\", \"late\", \"late\", \"lately\", \"launch\", \"leave\", \"let\", \"like\", \"like\", \"like\", \"like\", \"limit\", \"list\", \"list\", \"list\", \"list\", \"list\", \"live\", \"load\", \"load\", \"load\", \"load\", \"load\", \"local\", \"locate\", \"location\", \"log\", \"log\", \"loggin\", \"login\", \"login\", \"logo\", \"lol\", \"long\", \"long\", \"long\", \"long\", \"long\", \"long\", \"long\", \"long\", \"long\", \"look\", \"look\", \"look\", \"look\", \"look\", \"look\", \"loop\", \"lose\", \"lose\", \"lot\", \"lot\", \"lot\", \"lot\", \"lot\", \"love\", \"luck\", \"luck\", \"main\", \"main\", \"map\", \"match\", \"maybe\", \"meet\", \"meet\", \"meh\", \"memory\", \"menu\", \"mess\", \"message\", \"message\", \"message\", \"message\", \"message\", \"middle\", \"mile\", \"min\", \"min\", \"minute\", \"minute\", \"mobile\", \"mobile\", \"moment\", \"moment\", \"moment\", \"moment\", \"money\", \"month\", \"month\", \"month\", \"month\", \"month\", \"morning\", \"moto\", \"move\", \"msg\", \"mutual\", \"name\", \"near\", \"nearby\", \"neat\", \"need\", \"need\", \"need\", \"need\", \"need\", \"need\", \"need\", \"need\", \"need\", \"new\", \"new\", \"new\", \"new\", \"new\", \"new\", \"nexus\", \"nice\", \"nice\", \"non\", \"note\", \"note\", \"notification\", \"notification\", \"notify\", \"numb\", \"numb\", \"offer\", \"okay\", \"one\", \"one\", \"one\", \"oops\", \"open\", \"opps\", \"option\", \"option\", \"option\", \"option\", \"option\", \"option\", \"page\", \"page\", \"page\", \"page\", \"pass\", \"password\", \"past\", \"past\", \"pay\", \"pay\", \"payment\", \"people\", \"people\", \"people\", \"people\", \"people\", \"perfectly\", \"person\", \"person\", \"person\", \"person\", \"person\", \"personal\", \"phone\", \"phone\", \"phone\", \"phone\", \"photo\", \"pic\", \"pic\", \"picture\", \"piss\", \"pl\", \"plan\", \"play\", \"play\", \"plus\", \"plus\", \"plz\", \"plz\", \"post\", \"post\", \"potential\", \"ppl\", \"prefer\", \"preference\", \"press\", \"press\", \"pretty\", \"previous\", \"problem\", \"problem\", \"problem\", \"problem\", \"profile\", \"properly\", \"public\", \"purchase\", \"quality\", \"quit\", \"radius\", \"range\", \"rarely\", \"rate\", \"rate\", \"rate\", \"read\", \"real\", \"real\", \"realize\", \"reboot\", \"receive\", \"recent\", \"recommendation\", \"redownloaded\", \"refresh\", \"refund\", \"refuse\", \"refuse\", \"register\", \"reinstall\", \"release\", \"repeatedly\", \"reply\", \"reply\", \"reply\", \"reply\", \"report\", \"report\", \"require\", \"requirement\", \"reset\", \"resolve\", \"respond\", \"response\", \"response\", \"restart\", \"restore\", \"retrieve\", \"rid\", \"right\", \"right\", \"rubbish\", \"samsung\", \"save\", \"say\", \"say\", \"say\", \"say\", \"say\", \"say\", \"say\", \"say\", \"say\", \"screen\", \"screen\", \"screen\", \"scroll\", \"search\", \"search\", \"second\", \"send\", \"send\", \"service\", \"service\", \"service\", \"set\", \"setting\", \"setting\", \"sex\", \"shouldn\", \"show\", \"show\", \"show\", \"show\", \"show\", \"shut\", \"sick\", \"sign\", \"simple\", \"single\", \"single\", \"sit\", \"site\", \"site\", \"skip\", \"slow\", \"slow\", \"smart\", \"sms\", \"social\", \"software\", \"sort\", \"sort\", \"sound\", \"spam\", \"spammers\", \"stable\", \"stage\", \"star\", \"star\", \"star\", \"star\", \"star\", \"star\", \"star\", \"star\", \"star\", \"star\", \"start\", \"start\", \"start\", \"start\", \"start\", \"start\", \"start\", \"start\", \"status\", \"stay\", \"stick\", \"stick\", \"stick\", \"stick\", \"stop\", \"stop\", \"stop\", \"store\", \"stuff\", \"stuff\", \"subscribe\", \"subscription\", \"success\", \"super\", \"super\", \"support\", \"support\", \"swap\", \"swipe\", \"sync\", \"tablet\", \"talk\", \"tap\", \"team\", \"team\", \"tech\", \"tell\", \"tell\", \"tell\", \"tell\", \"tell\", \"tell\", \"tell\", \"tell\", \"temporary\", \"tend\", \"terrible\", \"terrible\", \"test\", \"text\", \"text\", \"thank\", \"thank\", \"thank\", \"thank\", \"thank\", \"thank\", \"thing\", \"thing\", \"thing\", \"thing\", \"thing\", \"thing\", \"thing\", \"think\", \"think\", \"think\", \"think\", \"think\", \"think\", \"tho\", \"time\", \"time\", \"time\", \"time\", \"time\", \"time\", \"time\", \"time\", \"tinder\", \"tinder\", \"tinder\", \"tinder\", \"tinder\", \"tinder\", \"tinder\", \"tinder\", \"today\", \"ton\", \"town\", \"trouble\", \"try\", \"try\", \"try\", \"try\", \"try\", \"try\", \"turn\", \"turn\", \"turn\", \"ugly\", \"unable\", \"unavailable\", \"undo\", \"unfortunately\", \"uninstall\", \"uninstalled\", \"uninstalling\", \"unstable\", \"unsubscribe\", \"unusable\", \"update\", \"update\", \"update\", \"update\", \"update\", \"update\", \"update\", \"update\", \"update\", \"upgrade\", \"upload\", \"upset\", \"use\", \"use\", \"use\", \"use\", \"use\", \"use\", \"useful\", \"useless\", \"useless\", \"useless\", \"useless\", \"useless\", \"user\", \"user\", \"user\", \"usually\", \"verification\", \"verification\", \"verify\", \"verify\", \"verify\", \"version\", \"version\", \"view\", \"want\", \"want\", \"want\", \"want\", \"want\", \"waste\", \"waste\", \"waste\", \"waste\", \"waste\", \"way\", \"way\", \"way\", \"way\", \"way\", \"way\", \"way\", \"webcam\", \"week\", \"week\", \"week\", \"week\", \"week\", \"well\", \"well\", \"well\", \"wifi\", \"wifi\", \"win\", \"win\", \"wish\", \"wish\", \"work\", \"work\", \"work\", \"work\", \"work\", \"work\", \"work\", \"wouldn\", \"wouldn\", \"wouldn\", \"wrong\", \"wtf\", \"wth\", \"yes\", \"yes\", \"yes\"]}, \"R\": 30, \"lambda.step\": 0.01, \"plot.opts\": {\"xlab\": \"PC1\", \"ylab\": \"PC2\"}, \"topic.order\": [9, 8, 7, 3, 4, 5, 6, 10, 1, 2]};\n",
       "\n",
       "function LDAvis_load_lib(url, callback){\n",
       "  var s = document.createElement('script');\n",
       "  s.src = url;\n",
       "  s.async = true;\n",
       "  s.onreadystatechange = s.onload = callback;\n",
       "  s.onerror = function(){console.warn(\"failed to load library \" + url);};\n",
       "  document.getElementsByTagName(\"head\")[0].appendChild(s);\n",
       "}\n",
       "\n",
       "if(typeof(LDAvis) !== \"undefined\"){\n",
       "   // already loaded: just create the visualization\n",
       "   !function(LDAvis){\n",
       "       new LDAvis(\"#\" + \"ldavis_el152621404391053790089717519915\", ldavis_el152621404391053790089717519915_data);\n",
       "   }(LDAvis);\n",
       "}else if(typeof define === \"function\" && define.amd){\n",
       "   // require.js is available: use it to load d3/LDAvis\n",
       "   require.config({paths: {d3: \"https://cdnjs.cloudflare.com/ajax/libs/d3/3.5.5/d3.min\"}});\n",
       "   require([\"d3\"], function(d3){\n",
       "      window.d3 = d3;\n",
       "      LDAvis_load_lib(\"https://cdn.rawgit.com/bmabey/pyLDAvis/files/ldavis.v1.0.0.js\", function(){\n",
       "        new LDAvis(\"#\" + \"ldavis_el152621404391053790089717519915\", ldavis_el152621404391053790089717519915_data);\n",
       "      });\n",
       "    });\n",
       "}else{\n",
       "    // require.js not available: dynamically load d3 & LDAvis\n",
       "    LDAvis_load_lib(\"https://cdnjs.cloudflare.com/ajax/libs/d3/3.5.5/d3.min.js\", function(){\n",
       "         LDAvis_load_lib(\"https://cdn.rawgit.com/bmabey/pyLDAvis/files/ldavis.v1.0.0.js\", function(){\n",
       "                 new LDAvis(\"#\" + \"ldavis_el152621404391053790089717519915\", ldavis_el152621404391053790089717519915_data);\n",
       "            })\n",
       "         });\n",
       "}\n",
       "</script>"
      ],
      "text/plain": [
       "PreparedData(topic_coordinates=              x         y  topics  cluster       Freq\n",
       "topic                                                \n",
       "8      0.234276 -0.009366       1        1  14.101697\n",
       "7      0.159876 -0.110025       2        1  12.758334\n",
       "6     -0.093736  0.086826       3        1  11.131514\n",
       "2     -0.012197  0.142077       4        1  11.071813\n",
       "3     -0.172314 -0.139311       5        1  10.630418\n",
       "4      0.034369  0.182037       6        1   9.545353\n",
       "5      0.246238  0.097099       7        1   8.663956\n",
       "9     -0.179982  0.081509       8        1   8.601329\n",
       "0     -0.248903 -0.003077       9        1   7.312741\n",
       "1      0.032372 -0.327771      10        1   6.182845, topic_info=        Term         Freq        Total Category  logprob  loglift\n",
       "28     match  5933.000000  5933.000000  Default  30.0000  30.0000\n",
       "149      log  8546.000000  8546.000000  Default  29.0000  29.0000\n",
       "42      good  2984.000000  2984.000000  Default  28.0000  28.0000\n",
       "4       like  4325.000000  4325.000000  Default  27.0000  27.0000\n",
       "172  profile  2887.000000  2887.000000  Default  26.0000  26.0000\n",
       "..       ...          ...          ...      ...      ...      ...\n",
       "535   search   155.250627   763.086474  Topic10  -4.8691   1.1911\n",
       "37    update   228.461079  3387.230408  Topic10  -4.4827   0.0870\n",
       "83       use   154.343894  2941.073543  Topic10  -4.8749  -0.1640\n",
       "14      time   126.801916  4467.869719  Topic10  -5.0715  -0.7786\n",
       "862    start   113.244590   805.102074  Topic10  -5.1846   0.8220\n",
       "\n",
       "[586 rows x 6 columns], token_table=      Topic      Freq     Term\n",
       "term                          \n",
       "869       9  0.993287  ability\n",
       "461       1  0.111341     able\n",
       "461       4  0.065023     able\n",
       "461       6  0.160331     able\n",
       "461       7  0.459617     able\n",
       "...     ...       ...      ...\n",
       "3352      3  0.992116      wtf\n",
       "1678      1  0.988375      wth\n",
       "177       2  0.252381      yes\n",
       "177       5  0.147859      yes\n",
       "177       8  0.599086      yes\n",
       "\n",
       "[902 rows x 3 columns], R=30, lambda_step=0.01, plot_opts={'xlab': 'PC1', 'ylab': 'PC2'}, topic_order=[9, 8, 7, 3, 4, 5, 6, 10, 1, 2])"
      ]
     },
     "execution_count": 25,
     "metadata": {},
     "output_type": "execute_result"
    }
   ],
   "source": [
    "# Here we will use pyldavis to visualize the distribution of our principal components\n",
    "pyLDAvis.gensim.prepare(lda_multicore, corpus, id2word)"
   ]
  },
  {
   "cell_type": "markdown",
   "metadata": {},
   "source": [
    "\n",
    "## Interpret LDA Results\n",
    "\n",
    "To interpret the results of our model, we will use Topic Coherence measures which score a single topic by measuring the degree of semantic similarity between high scoring words in the topic. For example \"the red sun in the blue sky\" is a semantic \n"
   ]
  },
  {
   "cell_type": "code",
   "execution_count": 26,
   "metadata": {},
   "outputs": [],
   "source": [
    "# Takes a few minutest to run, so we can grab a quick cup of coffee\n",
    "\n",
    "def compute_coherence_values(dictionary, corpus, texts, limit, start=2, step=3):\n",
    "    \"\"\"\n",
    "    Compute c_v coherence for various number of topics\n",
    "\n",
    "    Parameters:\n",
    "    ----------\n",
    "    dictionary : Gensim dictionary\n",
    "    corpus : Gensim corpus\n",
    "    texts : List of input texts\n",
    "    limit : Max num of topics\n",
    "\n",
    "    Returns:\n",
    "    -------\n",
    "    model_list : List of LDA topic models\n",
    "    coherence_values : Coherence values corresponding to the LDA model with respective number of topics\n",
    "    \"\"\"\n",
    "    coherence_values = []\n",
    "    model_list = []\n",
    "    for num_topics in range(start, limit, step):\n",
    "        model = gensim.models.ldamulticore.LdaMulticore(corpus=corpus,\n",
    "                                                        id2word=id2word,\n",
    "                                                        num_topics=num_topics, \n",
    "                                                        chunksize=100,\n",
    "                                                        passes=10,\n",
    "                                                        per_word_topics=True,\n",
    "                                                        workers=10)\n",
    "        model_list.append(model)\n",
    "        coherencemodel = CoherenceModel(model=model, texts=texts, dictionary=dictionary, coherence='c_v')\n",
    "        coherence_values.append(coherencemodel.get_coherence())\n",
    "\n",
    "    return model_list, coherence_values"
   ]
  },
  {
   "cell_type": "code",
   "execution_count": 38,
   "metadata": {},
   "outputs": [],
   "source": [
    "#topic_coherence = pd.DataFrame.from_records(str(coherence_values))\n",
    "#topic_coherence.head()"
   ]
  },
  {
   "cell_type": "code",
   "execution_count": 27,
   "metadata": {},
   "outputs": [
    {
     "name": "stdout",
     "output_type": "stream",
     "text": [
      "CPU times: user 1min 53s, sys: 24.2 s, total: 2min 17s\n",
      "Wall time: 3min 30s\n"
     ]
    }
   ],
   "source": [
    "%%time\n",
    "# Apply our function\n",
    "model_list, coherence_values = compute_coherence_values(dictionary=id2word, \n",
    "                                                        corpus=corpus, \n",
    "                                                        texts=tinder['lemmas'], \n",
    "                                                        start=2, \n",
    "                                                        limit=22, \n",
    "                                                        step=4)"
   ]
  },
  {
   "cell_type": "code",
   "execution_count": 33,
   "metadata": {},
   "outputs": [
    {
     "data": {
      "image/png": "[encoded data removed]",
      "text/plain": [
       "<Figure size 432x288 with 1 Axes>"
      ]
     },
     "metadata": {
      "needs_background": "light"
     },
     "output_type": "display_data"
    }
   ],
   "source": [
    "# Basic line chart\n",
    "# Use a plotly or ggplot viz\n",
    "limit=22; start=2; step=4;\n",
    "x = range(start, limit, step)\n",
    "plt.plot(x, coherence_values)\n",
    "plt.xlabel(\"Num Topics\")\n",
    "plt.ylabel(\"Coherence score\")\n",
    "plt.legend((\"coherence_values\"), loc='best')\n",
    "plt.show()"
   ]
  },
  {
   "cell_type": "code",
   "execution_count": 29,
   "metadata": {},
   "outputs": [
    {
     "name": "stdout",
     "output_type": "stream",
     "text": [
      "Num Topics = 2  consists of a Coherence Value of 0.4576\n",
      "Num Topics = 6  consists of a Coherence Value of 0.5802\n",
      "Num Topics = 10  consists of a Coherence Value of 0.5638\n",
      "Num Topics = 14  consists of a Coherence Value of 0.5637\n",
      "Num Topics = 18  consists of a Coherence Value of 0.5496\n"
     ]
    }
   ],
   "source": [
    "# Print the coherence scores\n",
    "for m, cv in zip(x, coherence_values):\n",
    "    print(\"Num Topics =\", m, \" consists of a Coherence Value of\", round(cv, 4))"
   ]
  },
  {
   "cell_type": "code",
   "execution_count": 30,
   "metadata": {},
   "outputs": [
    {
     "name": "stdout",
     "output_type": "stream",
     "text": [
      "[(0,\n",
      "  '0.121*\"profile\" + 0.077*\"picture\" + 0.056*\"photo\" + 0.049*\"fake\" + '\n",
      "  '0.038*\"upload\" + 0.037*\"add\" + 0.027*\"change\" + 0.023*\"far\" + 0.018*\"lot\" + '\n",
      "  '0.018*\"bot\"'),\n",
      " (1,\n",
      "  '0.148*\"good\" + 0.119*\"app\" + 0.080*\"open\" + 0.039*\"love\" + 0.034*\"connect\" '\n",
      "  '+ 0.029*\"load\" + 0.029*\"pic\" + 0.028*\"near\" + 0.027*\"work\" + 0.027*\"gps\"'),\n",
      " (2,\n",
      "  '0.058*\"tinder\" + 0.048*\"don\" + 0.048*\"account\" + 0.042*\"facebook\" + '\n",
      "  '0.038*\"want\" + 0.037*\"use\" + 0.032*\"app\" + 0.022*\"pay\" + 0.020*\"money\" + '\n",
      "  '0.019*\"month\"'),\n",
      " (3,\n",
      "  '0.071*\"people\" + 0.057*\"app\" + 0.050*\"great\" + 0.025*\"mile\" + 0.024*\"cool\" '\n",
      "  '+ 0.024*\"way\" + 0.024*\"meet\" + 0.022*\"away\" + 0.020*\"nice\" + 0.019*\"use\"'),\n",
      " (4,\n",
      "  '0.081*\"message\" + 0.031*\"notification\" + 0.029*\"send\" + 0.025*\"get\" + '\n",
      "  '0.025*\"tinder\" + 0.021*\"bad\" + 0.019*\"app\" + 0.015*\"receive\" + 0.015*\"don\" '\n",
      "  '+ 0.013*\"time\"'),\n",
      " (5,\n",
      "  '0.079*\"log\" + 0.079*\"problem\" + 0.073*\"fix\" + 0.058*\"fun\" + 0.058*\"login\" + '\n",
      "  '0.055*\"go\" + 0.052*\"wrong\" + 0.041*\"say\" + 0.036*\"try\" + 0.036*\"app\"'),\n",
      " (6,\n",
      "  '0.163*\"match\" + 0.041*\"get\" + 0.033*\"app\" + 0.025*\"message\" + '\n",
      "  '0.025*\"people\" + 0.024*\"like\" + 0.021*\"new\" + 0.019*\"find\" + 0.016*\"delete\" '\n",
      "  '+ 0.015*\"don\"'),\n",
      " (7,\n",
      "  '0.081*\"app\" + 0.077*\"work\" + 0.063*\"crash\" + 0.054*\"time\" + 0.042*\"update\" '\n",
      "  '+ 0.033*\"reinstall\" + 0.032*\"try\" + 0.027*\"keep\" + 0.024*\"install\" + '\n",
      "  '0.020*\"doesn\"'),\n",
      " (8,\n",
      "  '0.137*\"log\" + 0.086*\"facebook\" + 0.064*\"let\" + 0.051*\"win\" + 0.048*\"sign\" + '\n",
      "  '0.038*\"try\" + 0.030*\"app\" + 0.029*\"phone\" + 0.029*\"error\" + 0.028*\"say\"'),\n",
      " (9,\n",
      "  '0.120*\"like\" + 0.047*\"swipe\" + 0.033*\"app\" + 0.032*\"well\" + 0.025*\"right\" + '\n",
      "  '0.016*\"leave\" + 0.015*\"user\" + 0.014*\"rate\" + 0.014*\"tinder\" + '\n",
      "  '0.014*\"need\"')]\n"
     ]
    },
    {
     "name": "stderr",
     "output_type": "stream",
     "text": [
      "/opt/anaconda3/envs/NNs/lib/python3.8/site-packages/past/builtins/misc.py:45: DeprecationWarning: the imp module is deprecated in favour of importlib; see the module's documentation for alternative uses\n",
      "  from imp import reload\n",
      "/opt/anaconda3/envs/NNs/lib/python3.8/site-packages/past/builtins/misc.py:45: DeprecationWarning: the imp module is deprecated in favour of importlib; see the module's documentation for alternative uses\n",
      "  from imp import reload\n",
      "/opt/anaconda3/envs/NNs/lib/python3.8/site-packages/past/builtins/misc.py:45: DeprecationWarning: the imp module is deprecated in favour of importlib; see the module's documentation for alternative uses\n",
      "  from imp import reload\n",
      "/opt/anaconda3/envs/NNs/lib/python3.8/site-packages/past/builtins/misc.py:45: DeprecationWarning: the imp module is deprecated in favour of importlib; see the module's documentation for alternative uses\n",
      "  from imp import reload\n",
      "/opt/anaconda3/envs/NNs/lib/python3.8/site-packages/past/builtins/misc.py:45: DeprecationWarning: the imp module is deprecated in favour of importlib; see the module's documentation for alternative uses\n",
      "  from imp import reload\n",
      "/opt/anaconda3/envs/NNs/lib/python3.8/site-packages/past/builtins/misc.py:45: DeprecationWarning: the imp module is deprecated in favour of importlib; see the module's documentation for alternative uses\n",
      "  from imp import reload\n",
      "/opt/anaconda3/envs/NNs/lib/python3.8/site-packages/past/builtins/misc.py:45: DeprecationWarning: the imp module is deprecated in favour of importlib; see the module's documentation for alternative uses\n",
      "  from imp import reload\n",
      "/opt/anaconda3/envs/NNs/lib/python3.8/site-packages/past/builtins/misc.py:45: DeprecationWarning: the imp module is deprecated in favour of importlib; see the module's documentation for alternative uses\n",
      "  from imp import reload\n"
     ]
    }
   ],
   "source": [
    "# Select the model and print the topics\n",
    "optimal_model =  models.LdaModel.load('tinder_lda4.model')\n",
    "model_topics = optimal_model.show_topics(formatted=False)\n",
    "pprint(optimal_model.print_topics(num_words=10))"
   ]
  },
  {
   "cell_type": "code",
   "execution_count": 31,
   "metadata": {},
   "outputs": [
    {
     "name": "stdout",
     "output_type": "stream",
     "text": [
      "------ Topic 0 ------\n",
      "profile picture photo fake upload\n",
      "\n",
      "------ Topic 1 ------\n",
      "good app open love connect\n",
      "\n",
      "------ Topic 2 ------\n",
      "tinder don account facebook want\n",
      "\n",
      "------ Topic 3 ------\n",
      "people app great mile cool\n",
      "\n",
      "------ Topic 4 ------\n",
      "message notification send get tinder\n",
      "\n",
      "------ Topic 5 ------\n",
      "log problem fix fun login\n",
      "\n",
      "------ Topic 6 ------\n",
      "match get app message people\n",
      "\n",
      "------ Topic 7 ------\n",
      "app work crash time update\n",
      "\n",
      "------ Topic 8 ------\n",
      "log facebook let win sign\n",
      "\n",
      "------ Topic 9 ------\n",
      "like swipe app well right\n",
      "\n"
     ]
    }
   ],
   "source": [
    "# Get a cleaner print for readability\n",
    "for id, t in enumerate(topics):\n",
    "    print(f\"------ Topic {id} ------\")\n",
    "    print(t, end=\"\\n\\n\")"
   ]
  },
  {
   "cell_type": "code",
   "execution_count": null,
   "metadata": {},
   "outputs": [],
   "source": []
  }
 ],
 "metadata": {
  "kernelspec": {
   "display_name": "NNse",
   "language": "python",
   "name": "u4-s1-nns"
  },
  "language_info": {
   "codemirror_mode": {
    "name": "ipython",
    "version": 3
   },
   "file_extension": ".py",
   "mimetype": "text/x-python",
   "name": "python",
   "nbconvert_exporter": "python",
   "pygments_lexer": "ipython3",
   "version": "3.8.5"
  }
 },
 "nbformat": 4,
 "nbformat_minor": 4
}
